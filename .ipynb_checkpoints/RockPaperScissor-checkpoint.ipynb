{
 "cells": [
  {
   "cell_type": "code",
   "execution_count": 3,
   "metadata": {
    "colab": {
     "base_uri": "https://localhost:8080/",
     "height": 124
    },
    "colab_type": "code",
    "executionInfo": {
     "elapsed": 23446,
     "status": "ok",
     "timestamp": 1592563978354,
     "user": {
      "displayName": "Darlene Nazareth",
      "photoUrl": "https://lh3.googleusercontent.com/a-/AOh14Gj87u9mtP63hASzhUTgLZ96d7ESrUNQCq8pA-0Jvw=s64",
      "userId": "18299010163226169477"
     },
     "user_tz": -330
    },
    "id": "dO_JoikOhLCv",
    "outputId": "9f601e10-34ad-47e9-8961-b21affeca95b"
   },
   "outputs": [
    {
     "name": "stdout",
     "output_type": "stream",
     "text": [
      "Go to this URL in a browser: https://accounts.google.com/o/oauth2/auth?client_id=947318989803-6bn6qk8qdgf4n4g3pfee6491hc0brc4i.apps.googleusercontent.com&redirect_uri=urn%3aietf%3awg%3aoauth%3a2.0%3aoob&response_type=code&scope=email%20https%3a%2f%2fwww.googleapis.com%2fauth%2fdocs.test%20https%3a%2f%2fwww.googleapis.com%2fauth%2fdrive%20https%3a%2f%2fwww.googleapis.com%2fauth%2fdrive.photos.readonly%20https%3a%2f%2fwww.googleapis.com%2fauth%2fpeopleapi.readonly\n",
      "\n",
      "Enter your authorization code:\n",
      "··········\n",
      "Mounted at /content/drive\n"
     ]
    }
   ],
   "source": [
    "from google.colab import drive\n",
    "drive.mount('/content/drive')"
   ]
  },
  {
   "cell_type": "code",
   "execution_count": 4,
   "metadata": {
    "colab": {
     "base_uri": "https://localhost:8080/",
     "height": 35
    },
    "colab_type": "code",
    "executionInfo": {
     "elapsed": 1310,
     "status": "ok",
     "timestamp": 1592564953388,
     "user": {
      "displayName": "Darlene Nazareth",
      "photoUrl": "https://lh3.googleusercontent.com/a-/AOh14Gj87u9mtP63hASzhUTgLZ96d7ESrUNQCq8pA-0Jvw=s64",
      "userId": "18299010163226169477"
     },
     "user_tz": -330
    },
    "id": "No1YdfCKhYJm",
    "outputId": "4ffef558-d809-416f-cfb8-1dd9ca098dc8"
   },
   "outputs": [
    {
     "name": "stdout",
     "output_type": "stream",
     "text": [
      "/content/drive/My Drive/Colab Notebooks/Rock-Paper-Scissor\n"
     ]
    }
   ],
   "source": [
    "%cd drive/'My Drive'/'Colab Notebooks'/Rock-Paper-Scissor"
   ]
  },
  {
   "cell_type": "code",
   "execution_count": 56,
   "metadata": {
    "colab": {},
    "colab_type": "code",
    "executionInfo": {
     "elapsed": 3786,
     "status": "ok",
     "timestamp": 1592562764771,
     "user": {
      "displayName": "Darlene Nazareth",
      "photoUrl": "https://lh3.googleusercontent.com/a-/AOh14Gj87u9mtP63hASzhUTgLZ96d7ESrUNQCq8pA-0Jvw=s64",
      "userId": "18299010163226169477"
     },
     "user_tz": -330
    },
    "id": "TDZnl-xKijWS"
   },
   "outputs": [],
   "source": [
    "#!unzip rock-paper-scissor.zip"
   ]
  },
  {
   "cell_type": "code",
   "execution_count": 271,
   "metadata": {
    "colab": {
     "base_uri": "https://localhost:8080/",
     "height": 295
    },
    "colab_type": "code",
    "executionInfo": {
     "elapsed": 3713,
     "status": "ok",
     "timestamp": 1592587641744,
     "user": {
      "displayName": "Darlene Nazareth",
      "photoUrl": "https://lh3.googleusercontent.com/a-/AOh14Gj87u9mtP63hASzhUTgLZ96d7ESrUNQCq8pA-0Jvw=s64",
      "userId": "18299010163226169477"
     },
     "user_tz": -330
    },
    "id": "RRpBg13Inqgv",
    "outputId": "f8f36106-7606-4d40-99e2-4eef262c3d43"
   },
   "outputs": [
    {
     "name": "stdout",
     "output_type": "stream",
     "text": [
      "Dataset\t\t\tweights.15-0.57.hdf5\tweights_c.03-0.38.hdf5\n",
      "final_model1.h5\t\tweights_b.06-0.62.hdf5\tweights_c.03-0.67.hdf5\n",
      "final_model2.h5\t\tweights_b.08-0.46.hdf5\tweights_c.03-0.76.hdf5\n",
      "final_model4.h5\t\tweights_c.01-0.40.hdf5\tweights_c.03-0.88.hdf5\n",
      "final_model5.h5\t\tweights_c.01-0.91.hdf5\tweights_c.04-0.61.hdf5\n",
      "final_tflite\t\tweights_c.01-0.97.hdf5\tweights_c.05-0.63.hdf5\n",
      "final_weights1.h5\tweights_c.01-1.07.hdf5\tweights_c.05-0.66.hdf5\n",
      "final_weights2.h5\tweights_c.01-1.11.hdf5\tweights_c.06-0.65.hdf5\n",
      "final_weights4.h5\tweights_c.01-1.53.hdf5\tweights_c.06-0.66.hdf5\n",
      "final_weights5.h5\tweights_c.01-1.55.hdf5\tweights_c.08-0.59.hdf5\n",
      "RockPaperScissor.ipynb\tweights_c.02-0.73.hdf5\tweights_c.08-0.63.hdf5\n",
      "rock-paper-scissor.zip\tweights_c.02-0.76.hdf5\tweights_c.09-0.26.hdf5\n",
      "weights.01-0.95.hdf5\tweights_c.02-0.82.hdf5\tweights_c.11-0.57.hdf5\n",
      "weights.02-0.85.hdf5\tweights_c.02-0.94.hdf5\tweights_new.02-0.58.hdf5\n",
      "weights.03-0.87.hdf5\tweights_c.02-1.29.hdf5\tweights_new.04-0.57.hdf5\n",
      "weights.04-0.63.hdf5\tweights_c.03-0.35.hdf5\n"
     ]
    }
   ],
   "source": [
    "!ls"
   ]
  },
  {
   "cell_type": "code",
   "execution_count": null,
   "metadata": {
    "colab": {},
    "colab_type": "code",
    "id": "LW4a-0d5Xhoo"
   },
   "outputs": [],
   "source": [
    "!pip install scrapy"
   ]
  },
  {
   "cell_type": "code",
   "execution_count": 270,
   "metadata": {
    "colab": {},
    "colab_type": "code",
    "executionInfo": {
     "elapsed": 1288,
     "status": "ok",
     "timestamp": 1592587621892,
     "user": {
      "displayName": "Darlene Nazareth",
      "photoUrl": "https://lh3.googleusercontent.com/a-/AOh14Gj87u9mtP63hASzhUTgLZ96d7ESrUNQCq8pA-0Jvw=s64",
      "userId": "18299010163226169477"
     },
     "user_tz": -330
    },
    "id": "bwHg8UUtiozQ"
   },
   "outputs": [],
   "source": [
    "import keras as k\n",
    "from keras import layers\n",
    "from keras.layers import Input, Dense, Activation, ZeroPadding2D, BatchNormalization, Flatten, Conv2D , LeakyReLU\n",
    "from keras.layers import AveragePooling2D, MaxPooling2D, Dropout, GlobalMaxPooling2D, GlobalAveragePooling2D\n",
    "from keras.optimizers import RMSprop,SGD,Adam\n",
    "from keras.models import Model\n",
    "from keras.callbacks import EarlyStopping, ModelCheckpoint\n",
    "import keras.backend as K\n",
    "from tensorflow.keras.models import load_model\n",
    "import tensorflow as tf\n",
    "import matplotlib.pyplot as plt\n",
    "import pandas as pd\n",
    "import numpy as np\n",
    "import scrapy\n",
    "import seaborn as sns\n",
    "import cv2\n",
    "%matplotlib inline"
   ]
  },
  {
   "cell_type": "code",
   "execution_count": 6,
   "metadata": {
    "colab": {},
    "colab_type": "code",
    "executionInfo": {
     "elapsed": 1386,
     "status": "ok",
     "timestamp": 1592564964516,
     "user": {
      "displayName": "Darlene Nazareth",
      "photoUrl": "https://lh3.googleusercontent.com/a-/AOh14Gj87u9mtP63hASzhUTgLZ96d7ESrUNQCq8pA-0Jvw=s64",
      "userId": "18299010163226169477"
     },
     "user_tz": -330
    },
    "id": "l-F2mRXTwodm"
   },
   "outputs": [],
   "source": [
    "img_height = 100\n",
    "img_width = 100\n",
    "batch_size = 16"
   ]
  },
  {
   "cell_type": "code",
   "execution_count": 373,
   "metadata": {
    "colab": {
     "base_uri": "https://localhost:8080/",
     "height": 52
    },
    "colab_type": "code",
    "executionInfo": {
     "elapsed": 2160,
     "status": "ok",
     "timestamp": 1592595133881,
     "user": {
      "displayName": "Darlene Nazareth",
      "photoUrl": "https://lh3.googleusercontent.com/a-/AOh14Gj87u9mtP63hASzhUTgLZ96d7ESrUNQCq8pA-0Jvw=s64",
      "userId": "18299010163226169477"
     },
     "user_tz": -330
    },
    "id": "zkdOKHotlyf4",
    "outputId": "6d5b5db4-60fb-4758-fad5-849544cc860a"
   },
   "outputs": [
    {
     "name": "stdout",
     "output_type": "stream",
     "text": [
      "Found 1751 images belonging to 3 classes.\n",
      "Found 437 images belonging to 3 classes.\n"
     ]
    }
   ],
   "source": [
    "data_image_gen = k.preprocessing.image.ImageDataGenerator(\n",
    "    rescale=1./255,\n",
    "    rotation_range=0.1,\n",
    "    width_shift_range=0.1,\n",
    "    height_shift_range=0.1,\n",
    "    brightness_range=[0.5, 1.5],\n",
    "    channel_shift_range=0.05,\n",
    "    shear_range=0.1,\n",
    "    zoom_range=0.1,\n",
    "    horizontal_flip=True,\n",
    "    vertical_flip=True,\n",
    "    validation_split=0.2\n",
    ")\n",
    "\n",
    "train_data_generator = data_image_gen.flow_from_directory(\n",
    "    'Dataset',\n",
    "    subset='training',\n",
    "    target_size=(img_height, img_width),\n",
    "    color_mode=\"rgb\", #grayscale\n",
    "    shuffle=True,\n",
    "    batch_size=batch_size,\n",
    "    class_mode='categorical',\n",
    "    seed=42\n",
    ")\n",
    "\n",
    "validation_data_generator = data_image_gen.flow_from_directory(\n",
    "    'Dataset',\n",
    "    subset='validation',\n",
    "    target_size=(img_height, img_width),\n",
    "    color_mode=\"rgb\", #grayscale\n",
    "    shuffle=True,\n",
    "    batch_size=batch_size,\n",
    "    class_mode='categorical',\n",
    "    seed=42\n",
    ")"
   ]
  },
  {
   "cell_type": "code",
   "execution_count": 111,
   "metadata": {
    "colab": {
     "base_uri": "https://localhost:8080/",
     "height": 104
    },
    "colab_type": "code",
    "executionInfo": {
     "elapsed": 1185,
     "status": "ok",
     "timestamp": 1592573615130,
     "user": {
      "displayName": "Darlene Nazareth",
      "photoUrl": "https://lh3.googleusercontent.com/a-/AOh14Gj87u9mtP63hASzhUTgLZ96d7ESrUNQCq8pA-0Jvw=s64",
      "userId": "18299010163226169477"
     },
     "user_tz": -330
    },
    "id": "loZmiG0FxBE8",
    "outputId": "e9e36394-9ed2-447d-c128-284b58671c0b"
   },
   "outputs": [
    {
     "name": "stdout",
     "output_type": "stream",
     "text": [
      "train_dataset : samples per class\n",
      "{'paper': 641, 'rock': 654, 'scissors': 675}\n",
      "\n",
      "validation_dataset : samples per class\n"
     ]
    },
    {
     "data": {
      "text/plain": [
       "{'paper': 71, 'rock': 72, 'scissors': 75}"
      ]
     },
     "execution_count": 111,
     "metadata": {
      "tags": []
     },
     "output_type": "execute_result"
    }
   ],
   "source": [
    "unique, count = np.unique(train_data_generator.classes,return_counts=True)\n",
    "print('train_dataset : samples per class')\n",
    "print(dict(zip(train_data_generator.class_indices,count)))\n",
    "\n",
    "unique, count = np.unique(validation_data_generator.classes,return_counts=True)\n",
    "print('\\nvalidation_dataset : samples per class')\n",
    "dict(zip(validation_data_generator.class_indices,count))"
   ]
  },
  {
   "cell_type": "code",
   "execution_count": 47,
   "metadata": {
    "colab": {},
    "colab_type": "code",
    "executionInfo": {
     "elapsed": 965,
     "status": "ok",
     "timestamp": 1592553824563,
     "user": {
      "displayName": "Darlene Nazareth",
      "photoUrl": "https://lh3.googleusercontent.com/a-/AOh14Gj87u9mtP63hASzhUTgLZ96d7ESrUNQCq8pA-0Jvw=s64",
      "userId": "18299010163226169477"
     },
     "user_tz": -330
    },
    "id": "Mul8dILmgCkw"
   },
   "outputs": [],
   "source": [
    "def showImges(img_arr):\n",
    "  fig, axes = plt.subplots(nrows=2,ncols=3,figsize=(5,5))\n",
    "  axes=axes.flatten()\n",
    "  for img, ax in zip( img_arr, axes):\n",
    "          ax.imshow(img)\n",
    "          ax.axis('off')\n",
    "  plt.tight_layout()\n",
    "  plt.show()"
   ]
  },
  {
   "cell_type": "code",
   "execution_count": 51,
   "metadata": {
    "colab": {
     "base_uri": "https://localhost:8080/",
     "height": 290
    },
    "colab_type": "code",
    "executionInfo": {
     "elapsed": 1784,
     "status": "ok",
     "timestamp": 1592553952408,
     "user": {
      "displayName": "Darlene Nazareth",
      "photoUrl": "https://lh3.googleusercontent.com/a-/AOh14Gj87u9mtP63hASzhUTgLZ96d7ESrUNQCq8pA-0Jvw=s64",
      "userId": "18299010163226169477"
     },
     "user_tz": -330
    },
    "id": "FZNrUXw_i1Lz",
    "outputId": "a871dff0-d4b7-4031-9738-f9a4d075661b"
   },
   "outputs": [
    {
     "data": {
      "image/png": "[encoded data removed]",
      "text/plain": [
       "<Figure size 360x360 with 6 Axes>"
      ]
     },
     "metadata": {
      "tags": []
     },
     "output_type": "display_data"
    }
   ],
   "source": [
    "sample_training_imgs,_=next(train_data_generator)\n",
    "showImges(sample_training_imgs[:6])"
   ]
  },
  {
   "cell_type": "code",
   "execution_count": 439,
   "metadata": {
    "colab": {},
    "colab_type": "code",
    "executionInfo": {
     "elapsed": 1189,
     "status": "ok",
     "timestamp": 1592597552496,
     "user": {
      "displayName": "Darlene Nazareth",
      "photoUrl": "https://lh3.googleusercontent.com/a-/AOh14Gj87u9mtP63hASzhUTgLZ96d7ESrUNQCq8pA-0Jvw=s64",
      "userId": "18299010163226169477"
     },
     "user_tz": -330
    },
    "id": "GDX3e_a_kwQM"
   },
   "outputs": [],
   "source": [
    "#custom model\n",
    "x_input=Input((img_width,img_height,3))\n",
    "\n",
    "x = Conv2D(filters=32,kernel_size=(3,3),strides=(1,1),padding='same',kernel_regularizer=k.regularizers.l2(0.0005),name='conv2d_1')(x_input)\n",
    "x = BatchNormalization(epsilon=0.001, name='bnorm_1',axis=3)(x)\n",
    "x = Activation('relu',name='acti_conv2d_1')(x)\n",
    "\n",
    "\n",
    "x = MaxPooling2D((2, 2), name='max_pool')(x)\n",
    "\n",
    "x = Conv2D(filters=64,kernel_size=(3,3),strides=(1,1),padding='valid',kernel_regularizer=k.regularizers.l2(1e-4),name='conv2d_2')(x)\n",
    "x = BatchNormalization(name='bnorm_2',axis=3)(x)\n",
    "x = LeakyReLU(alpha=0.3,name='leaky_2')(x)\n",
    "\n",
    "x = Conv2D(filters=64,kernel_size=(3,3),strides=(1,1),padding='same',kernel_regularizer=k.regularizers.l2(1e-4),name='conv2d_3')(x)\n",
    "x = BatchNormalization(name='bnorm_3',axis=3)(x)\n",
    "x = LeakyReLU(alpha=0.3,name='leaky_3')(x)\n",
    "\n",
    "x = AveragePooling2D((2, 2), name='avg_pool')(x)\n",
    "\n",
    "x = Flatten()(x)\n",
    "\n",
    "x = Dense(256,kernel_regularizer=k.regularizers.l2(1e-4), name='fc_1')(x)\n",
    "x = LeakyReLU(alpha=0.3)(x)\n",
    "x = Dense(125, kernel_regularizer=k.regularizers.l2(1e-4), name='fc_2')(x)\n",
    "x = LeakyReLU(alpha=0.3)(x)\n",
    "x = Dense(3, kernel_regularizer=k.regularizers.l2(1e-4), name='fc_3')(x)\n",
    "x = Activation('softmax',name='softmax_activation')(x)\n",
    "model5 = Model(inputs = x_input, outputs = x, name='CustomModel')"
   ]
  },
  {
   "cell_type": "code",
   "execution_count": 100,
   "metadata": {
    "colab": {
     "base_uri": "https://localhost:8080/",
     "height": 711
    },
    "colab_type": "code",
    "executionInfo": {
     "elapsed": 1449,
     "status": "ok",
     "timestamp": 1592573280981,
     "user": {
      "displayName": "Darlene Nazareth",
      "photoUrl": "https://lh3.googleusercontent.com/a-/AOh14Gj87u9mtP63hASzhUTgLZ96d7ESrUNQCq8pA-0Jvw=s64",
      "userId": "18299010163226169477"
     },
     "user_tz": -330
    },
    "id": "CIJpzlRN3zoP",
    "outputId": "4d191852-489b-4854-f0a3-beaeca397df7"
   },
   "outputs": [
    {
     "name": "stdout",
     "output_type": "stream",
     "text": [
      "Model: \"CustomModel\"\n",
      "_________________________________________________________________\n",
      "Layer (type)                 Output Shape              Param #   \n",
      "=================================================================\n",
      "input_11 (InputLayer)        (None, 100, 100, 3)       0         \n",
      "_________________________________________________________________\n",
      "conv2d_1 (Conv2D)            (None, 100, 100, 32)      896       \n",
      "_________________________________________________________________\n",
      "bnorm_1 (BatchNormalization) (None, 100, 100, 32)      128       \n",
      "_________________________________________________________________\n",
      "acti_conv2d_1 (Activation)   (None, 100, 100, 32)      0         \n",
      "_________________________________________________________________\n",
      "max_pool (MaxPooling2D)      (None, 50, 50, 32)        0         \n",
      "_________________________________________________________________\n",
      "conv2d_2 (Conv2D)            (None, 48, 48, 64)        18496     \n",
      "_________________________________________________________________\n",
      "bnorm_2 (BatchNormalization) (None, 48, 48, 64)        256       \n",
      "_________________________________________________________________\n",
      "leaky_2 (LeakyReLU)          (None, 48, 48, 64)        0         \n",
      "_________________________________________________________________\n",
      "conv2d_3 (Conv2D)            (None, 48, 48, 128)       73856     \n",
      "_________________________________________________________________\n",
      "bnorm_3 (BatchNormalization) (None, 48, 48, 128)       512       \n",
      "_________________________________________________________________\n",
      "acti_conv2d_3 (Activation)   (None, 48, 48, 128)       0         \n",
      "_________________________________________________________________\n",
      "avg_pool (AveragePooling2D)  (None, 24, 24, 128)       0         \n",
      "_________________________________________________________________\n",
      "flatten_11 (Flatten)         (None, 73728)             0         \n",
      "_________________________________________________________________\n",
      "fc_1 (Dense)                 (None, 32)                2359328   \n",
      "_________________________________________________________________\n",
      "fc_2 (Dense)                 (None, 3)                 99        \n",
      "_________________________________________________________________\n",
      "softmax_activation (Activati (None, 3)                 0         \n",
      "=================================================================\n",
      "Total params: 2,453,571\n",
      "Trainable params: 2,453,123\n",
      "Non-trainable params: 448\n",
      "_________________________________________________________________\n"
     ]
    }
   ],
   "source": [
    "model2_1.summary()"
   ]
  },
  {
   "cell_type": "code",
   "execution_count": 440,
   "metadata": {
    "colab": {},
    "colab_type": "code",
    "executionInfo": {
     "elapsed": 1454,
     "status": "ok",
     "timestamp": 1592597558328,
     "user": {
      "displayName": "Darlene Nazareth",
      "photoUrl": "https://lh3.googleusercontent.com/a-/AOh14Gj87u9mtP63hASzhUTgLZ96d7ESrUNQCq8pA-0Jvw=s64",
      "userId": "18299010163226169477"
     },
     "user_tz": -330
    },
    "id": "wQ7XWd7ytazm"
   },
   "outputs": [],
   "source": [
    "model5.compile(loss='categorical_crossentropy',metrics=['accuracy'],\n",
    "              optimizer=SGD(learning_rate=0.02,momentum=0.9))"
   ]
  },
  {
   "cell_type": "code",
   "execution_count": 255,
   "metadata": {
    "colab": {},
    "colab_type": "code",
    "executionInfo": {
     "elapsed": 1238,
     "status": "ok",
     "timestamp": 1592587053497,
     "user": {
      "displayName": "Darlene Nazareth",
      "photoUrl": "https://lh3.googleusercontent.com/a-/AOh14Gj87u9mtP63hASzhUTgLZ96d7ESrUNQCq8pA-0Jvw=s64",
      "userId": "18299010163226169477"
     },
     "user_tz": -330
    },
    "id": "9rrCWwfBgmMB"
   },
   "outputs": [],
   "source": [
    "model4.compile(loss='categorical_crossentropy',metrics=['accuracy'],\n",
    "              optimizer=SGD(learning_rate=0.01,momentum=0.9))"
   ]
  },
  {
   "cell_type": "code",
   "execution_count": 199,
   "metadata": {
    "colab": {},
    "colab_type": "code",
    "executionInfo": {
     "elapsed": 1224,
     "status": "ok",
     "timestamp": 1592584317788,
     "user": {
      "displayName": "Darlene Nazareth",
      "photoUrl": "https://lh3.googleusercontent.com/a-/AOh14Gj87u9mtP63hASzhUTgLZ96d7ESrUNQCq8pA-0Jvw=s64",
      "userId": "18299010163226169477"
     },
     "user_tz": -330
    },
    "id": "_8M56uPqWFDW"
   },
   "outputs": [],
   "source": [
    "model2_5.compile(loss='categorical_crossentropy',metrics=['accuracy'],\n",
    "              optimizer=SGD(learning_rate=0.02,momentum=0.9))"
   ]
  },
  {
   "cell_type": "code",
   "execution_count": 175,
   "metadata": {
    "colab": {},
    "colab_type": "code",
    "executionInfo": {
     "elapsed": 1458,
     "status": "ok",
     "timestamp": 1592581835384,
     "user": {
      "displayName": "Darlene Nazareth",
      "photoUrl": "https://lh3.googleusercontent.com/a-/AOh14Gj87u9mtP63hASzhUTgLZ96d7ESrUNQCq8pA-0Jvw=s64",
      "userId": "18299010163226169477"
     },
     "user_tz": -330
    },
    "id": "DhhC_i8EQHfJ"
   },
   "outputs": [],
   "source": [
    "model2_4.compile(loss='categorical_crossentropy',metrics=['accuracy'],\n",
    "              optimizer=SGD(learning_rate=0.02,momentum=0.9))"
   ]
  },
  {
   "cell_type": "code",
   "execution_count": 160,
   "metadata": {
    "colab": {},
    "colab_type": "code",
    "executionInfo": {
     "elapsed": 1246,
     "status": "ok",
     "timestamp": 1592581188989,
     "user": {
      "displayName": "Darlene Nazareth",
      "photoUrl": "https://lh3.googleusercontent.com/a-/AOh14Gj87u9mtP63hASzhUTgLZ96d7ESrUNQCq8pA-0Jvw=s64",
      "userId": "18299010163226169477"
     },
     "user_tz": -330
    },
    "id": "bQNfaqpfOUA2"
   },
   "outputs": [],
   "source": [
    "model2_3.compile(loss='categorical_crossentropy',metrics=['accuracy'],\n",
    "              optimizer=SGD(learning_rate=0.02,momentum=0.9))"
   ]
  },
  {
   "cell_type": "code",
   "execution_count": 113,
   "metadata": {
    "colab": {},
    "colab_type": "code",
    "executionInfo": {
     "elapsed": 1162,
     "status": "ok",
     "timestamp": 1592573648182,
     "user": {
      "displayName": "Darlene Nazareth",
      "photoUrl": "https://lh3.googleusercontent.com/a-/AOh14Gj87u9mtP63hASzhUTgLZ96d7ESrUNQCq8pA-0Jvw=s64",
      "userId": "18299010163226169477"
     },
     "user_tz": -330
    },
    "id": "7GwEI7A3naNh"
   },
   "outputs": [],
   "source": [
    "model2_2.compile(loss='categorical_crossentropy',metrics=['accuracy'],\n",
    "              optimizer=SGD(learning_rate=0.02,momentum=0.9))"
   ]
  },
  {
   "cell_type": "code",
   "execution_count": 10,
   "metadata": {
    "colab": {},
    "colab_type": "code",
    "executionInfo": {
     "elapsed": 2394,
     "status": "ok",
     "timestamp": 1592564998597,
     "user": {
      "displayName": "Darlene Nazareth",
      "photoUrl": "https://lh3.googleusercontent.com/a-/AOh14Gj87u9mtP63hASzhUTgLZ96d7ESrUNQCq8pA-0Jvw=s64",
      "userId": "18299010163226169477"
     },
     "user_tz": -330
    },
    "id": "3zsHP5h3JvLg"
   },
   "outputs": [],
   "source": [
    "model2_1.compile(loss='categorical_crossentropy',metrics=['accuracy'],\n",
    "              optimizer=RMSprop())\n",
    "\n",
    "model3.compile(loss='categorical_crossentropy',metrics=['accuracy'],\n",
    "              optimizer=RMSprop())\n",
    "\n",
    "model2.compile(loss='categorical_crossentropy',metrics=['accuracy'],\n",
    "              optimizer=RMSprop())\n",
    "\n",
    "model.compile(loss='categorical_crossentropy',metrics=['accuracy'],\n",
    "              optimizer=Adam(learning_rate=0.01))"
   ]
  },
  {
   "cell_type": "code",
   "execution_count": 118,
   "metadata": {
    "colab": {},
    "colab_type": "code",
    "executionInfo": {
     "elapsed": 1249,
     "status": "ok",
     "timestamp": 1592575637077,
     "user": {
      "displayName": "Darlene Nazareth",
      "photoUrl": "https://lh3.googleusercontent.com/a-/AOh14Gj87u9mtP63hASzhUTgLZ96d7ESrUNQCq8pA-0Jvw=s64",
      "userId": "18299010163226169477"
     },
     "user_tz": -330
    },
    "id": "wV-3omLdl-EF"
   },
   "outputs": [],
   "source": [
    "model2_2.load_weights('weights.03-0.87.hdf5')"
   ]
  },
  {
   "cell_type": "code",
   "execution_count": 473,
   "metadata": {
    "colab": {
     "base_uri": "https://localhost:8080/",
     "height": 349
    },
    "colab_type": "code",
    "executionInfo": {
     "elapsed": 156780,
     "status": "ok",
     "timestamp": 1592598623556,
     "user": {
      "displayName": "Darlene Nazareth",
      "photoUrl": "https://lh3.googleusercontent.com/a-/AOh14Gj87u9mtP63hASzhUTgLZ96d7ESrUNQCq8pA-0Jvw=s64",
      "userId": "18299010163226169477"
     },
     "user_tz": -330
    },
    "id": "lbKhHN3oteme",
    "outputId": "adce15cc-f82e-4009-910b-20c667b59132"
   },
   "outputs": [
    {
     "name": "stdout",
     "output_type": "stream",
     "text": [
      "Epoch 1/20\n",
      "110/110 [==============================] - 18s 166ms/step - loss: 0.6121 - accuracy: 0.8264 - val_loss: 1.1275 - val_accuracy: 0.8719\n",
      "Epoch 2/20\n",
      "110/110 [==============================] - 17s 154ms/step - loss: 0.5326 - accuracy: 0.8498 - val_loss: 0.8057 - val_accuracy: 0.8375\n",
      "Epoch 3/20\n",
      "110/110 [==============================] - 17s 156ms/step - loss: 0.5434 - accuracy: 0.8521 - val_loss: 0.5105 - val_accuracy: 0.8833\n",
      "Epoch 4/20\n",
      "110/110 [==============================] - 17s 155ms/step - loss: 0.4705 - accuracy: 0.8818 - val_loss: 0.4258 - val_accuracy: 0.8947\n",
      "Epoch 5/20\n",
      "110/110 [==============================] - 17s 155ms/step - loss: 0.5335 - accuracy: 0.8578 - val_loss: 0.8034 - val_accuracy: 0.7918\n",
      "Epoch 6/20\n",
      "110/110 [==============================] - 16s 150ms/step - loss: 0.4646 - accuracy: 0.8772 - val_loss: 0.2186 - val_accuracy: 0.9153\n",
      "Epoch 7/20\n",
      "110/110 [==============================] - 17s 158ms/step - loss: 0.4960 - accuracy: 0.8772 - val_loss: 0.8262 - val_accuracy: 0.8055\n",
      "Epoch 8/20\n",
      "110/110 [==============================] - 17s 152ms/step - loss: 0.3957 - accuracy: 0.9160 - val_loss: 0.7865 - val_accuracy: 0.8924\n",
      "Epoch 9/20\n",
      "110/110 [==============================] - 17s 151ms/step - loss: 0.4232 - accuracy: 0.9075 - val_loss: 0.1360 - val_accuracy: 0.9016\n"
     ]
    }
   ],
   "source": [
    "history5=model5.fit(\n",
    "    train_data_generator,\n",
    "    epochs=20,\n",
    "    verbose=1,\n",
    "    validation_data=validation_data_generator,\n",
    "    shuffle=True,\n",
    "    callbacks=[\n",
    "        EarlyStopping(monitor='val_loss', patience=3,restore_best_weights=True, min_delta=0.1),\n",
    "        ModelCheckpoint('weights.{epoch:02d}-{val_loss:.2f}.hdf5',monitor='val_loss',save_best_only=True,mode='auto')\n",
    "    ]\n",
    ")"
   ]
  },
  {
   "cell_type": "code",
   "execution_count": 256,
   "metadata": {
    "colab": {
     "base_uri": "https://localhost:8080/",
     "height": 523
    },
    "colab_type": "code",
    "executionInfo": {
     "elapsed": 227815,
     "status": "ok",
     "timestamp": 1592587285251,
     "user": {
      "displayName": "Darlene Nazareth",
      "photoUrl": "https://lh3.googleusercontent.com/a-/AOh14Gj87u9mtP63hASzhUTgLZ96d7ESrUNQCq8pA-0Jvw=s64",
      "userId": "18299010163226169477"
     },
     "user_tz": -330
    },
    "id": "TQM3DOOsgps1",
    "outputId": "e28a99a5-85e4-43a9-868c-bba332af5977"
   },
   "outputs": [
    {
     "name": "stdout",
     "output_type": "stream",
     "text": [
      "Epoch 1/20\n",
      "110/110 [==============================] - 17s 156ms/step - loss: 0.8649 - accuracy: 0.7019 - val_loss: 1.5455 - val_accuracy: 0.3318\n",
      "Epoch 2/20\n",
      "110/110 [==============================] - 16s 143ms/step - loss: 0.7095 - accuracy: 0.8658 - val_loss: 1.2949 - val_accuracy: 0.3707\n",
      "Epoch 3/20\n",
      "110/110 [==============================] - 16s 144ms/step - loss: 0.6483 - accuracy: 0.9246 - val_loss: 0.7611 - val_accuracy: 0.5652\n",
      "Epoch 4/20\n",
      "110/110 [==============================] - 16s 144ms/step - loss: 0.6346 - accuracy: 0.9400 - val_loss: 1.2840 - val_accuracy: 0.5217\n",
      "Epoch 5/20\n",
      "110/110 [==============================] - 17s 150ms/step - loss: 0.6258 - accuracy: 0.9429 - val_loss: 1.2695 - val_accuracy: 0.6613\n",
      "Epoch 6/20\n",
      "110/110 [==============================] - 16s 142ms/step - loss: 0.6167 - accuracy: 0.9503 - val_loss: 0.6603 - val_accuracy: 0.8421\n",
      "Epoch 7/20\n",
      "110/110 [==============================] - 16s 145ms/step - loss: 0.6094 - accuracy: 0.9572 - val_loss: 0.7430 - val_accuracy: 0.7483\n",
      "Epoch 8/20\n",
      "110/110 [==============================] - 16s 143ms/step - loss: 0.6041 - accuracy: 0.9623 - val_loss: 0.6350 - val_accuracy: 0.9085\n",
      "Epoch 9/20\n",
      "110/110 [==============================] - 16s 143ms/step - loss: 0.6007 - accuracy: 0.9686 - val_loss: 0.9803 - val_accuracy: 0.6476\n",
      "Epoch 10/20\n",
      "110/110 [==============================] - 16s 143ms/step - loss: 0.5959 - accuracy: 0.9720 - val_loss: 1.1391 - val_accuracy: 0.5606\n",
      "Epoch 11/20\n",
      "110/110 [==============================] - 15s 141ms/step - loss: 0.6005 - accuracy: 0.9669 - val_loss: 0.5665 - val_accuracy: 0.9680\n",
      "Epoch 12/20\n",
      "110/110 [==============================] - 16s 143ms/step - loss: 0.5942 - accuracy: 0.9680 - val_loss: 1.0504 - val_accuracy: 0.5034\n",
      "Epoch 13/20\n",
      "110/110 [==============================] - 16s 142ms/step - loss: 0.5914 - accuracy: 0.9789 - val_loss: 0.6511 - val_accuracy: 0.7208\n",
      "Epoch 14/20\n",
      "110/110 [==============================] - 15s 140ms/step - loss: 0.5894 - accuracy: 0.9777 - val_loss: 0.7157 - val_accuracy: 0.9428\n"
     ]
    }
   ],
   "source": [
    "history4=model4.fit(\n",
    "    train_data_generator,\n",
    "    epochs=20,\n",
    "    verbose=1,\n",
    "    validation_data=validation_data_generator,\n",
    "    shuffle=True,\n",
    "    callbacks=[\n",
    "               EarlyStopping(monitor='val_loss', patience=3,restore_best_weights=True),\n",
    "               ModelCheckpoint('weights_c.{epoch:02d}-{val_loss:.2f}.hdf5',monitor='val_loss',save_best_only=True,mode='auto')\n",
    "    ]\n",
    ")"
   ]
  },
  {
   "cell_type": "code",
   "execution_count": 200,
   "metadata": {
    "colab": {
     "base_uri": "https://localhost:8080/",
     "height": 453
    },
    "colab_type": "code",
    "executionInfo": {
     "elapsed": 5703,
     "status": "ok",
     "timestamp": 1592584516983,
     "user": {
      "displayName": "Darlene Nazareth",
      "photoUrl": "https://lh3.googleusercontent.com/a-/AOh14Gj87u9mtP63hASzhUTgLZ96d7ESrUNQCq8pA-0Jvw=s64",
      "userId": "18299010163226169477"
     },
     "user_tz": -330
    },
    "id": "FD_6SheGWNKk",
    "outputId": "0210a7d8-7272-488a-8636-9a27ef8343d7"
   },
   "outputs": [
    {
     "name": "stdout",
     "output_type": "stream",
     "text": [
      "Epoch 1/20\n",
      "110/110 [==============================] - 18s 168ms/step - loss: 0.7990 - accuracy: 0.6528 - val_loss: 1.3078 - val_accuracy: 0.5423\n",
      "Epoch 2/20\n",
      "110/110 [==============================] - 16s 146ms/step - loss: 0.5032 - accuracy: 0.8618 - val_loss: 1.8351 - val_accuracy: 0.5950\n",
      "Epoch 3/20\n",
      "110/110 [==============================] - 16s 142ms/step - loss: 0.3884 - accuracy: 0.9372 - val_loss: 0.8778 - val_accuracy: 0.8604\n",
      "Epoch 4/20\n",
      "110/110 [==============================] - 16s 145ms/step - loss: 0.4103 - accuracy: 0.9218 - val_loss: 1.1025 - val_accuracy: 0.5973\n",
      "Epoch 5/20\n",
      "110/110 [==============================] - 15s 140ms/step - loss: 0.3384 - accuracy: 0.9572 - val_loss: 0.6641 - val_accuracy: 0.9130\n",
      "Epoch 6/20\n",
      "110/110 [==============================] - 16s 144ms/step - loss: 0.3351 - accuracy: 0.9589 - val_loss: 0.6541 - val_accuracy: 0.8032\n",
      "Epoch 7/20\n",
      "110/110 [==============================] - 16s 143ms/step - loss: 0.3420 - accuracy: 0.9509 - val_loss: 0.6599 - val_accuracy: 0.3959\n",
      "Epoch 8/20\n",
      "110/110 [==============================] - 15s 138ms/step - loss: 0.3213 - accuracy: 0.9657 - val_loss: 0.5894 - val_accuracy: 0.9611\n",
      "Epoch 9/20\n",
      "110/110 [==============================] - 16s 142ms/step - loss: 0.3108 - accuracy: 0.9692 - val_loss: 0.2617 - val_accuracy: 0.7483\n",
      "Epoch 10/20\n",
      "110/110 [==============================] - 16s 142ms/step - loss: 0.3133 - accuracy: 0.9703 - val_loss: 0.2733 - val_accuracy: 0.9222\n",
      "Epoch 11/20\n",
      "110/110 [==============================] - 15s 139ms/step - loss: 0.3065 - accuracy: 0.9737 - val_loss: 1.8405 - val_accuracy: 0.4073\n",
      "Epoch 12/20\n",
      "110/110 [==============================] - 16s 144ms/step - loss: 0.3131 - accuracy: 0.9726 - val_loss: 0.3442 - val_accuracy: 0.9291\n"
     ]
    }
   ],
   "source": [
    "history2_5=model2_5.fit(\n",
    "    train_data_generator,\n",
    "    epochs=20,\n",
    "    verbose=1,\n",
    "    validation_data=validation_data_generator,\n",
    "    shuffle=True,\n",
    "    callbacks=[\n",
    "               EarlyStopping(monitor='val_loss', patience=3,restore_best_weights=True),\n",
    "               ModelCheckpoint('weights_c.{epoch:02d}-{val_loss:.2f}.hdf5',monitor='val_loss',save_best_only=True,mode='auto')\n",
    "    ]\n",
    ")"
   ]
  },
  {
   "cell_type": "code",
   "execution_count": 176,
   "metadata": {
    "colab": {
     "base_uri": "https://localhost:8080/",
     "height": 419
    },
    "colab_type": "code",
    "executionInfo": {
     "elapsed": 106,
     "status": "ok",
     "timestamp": 1592582962501,
     "user": {
      "displayName": "Darlene Nazareth",
      "photoUrl": "https://lh3.googleusercontent.com/a-/AOh14Gj87u9mtP63hASzhUTgLZ96d7ESrUNQCq8pA-0Jvw=s64",
      "userId": "18299010163226169477"
     },
     "user_tz": -330
    },
    "id": "mLRoETSYQK15",
    "outputId": "18e7f746-6cdf-45d8-b4b2-6aa342826509"
   },
   "outputs": [
    {
     "name": "stdout",
     "output_type": "stream",
     "text": [
      "Epoch 1/20\n",
      "124/124 [==============================] - 18s 144ms/step - loss: 0.9810 - accuracy: 0.3437 - val_loss: 1.1708 - val_accuracy: 0.3532\n",
      "Epoch 2/20\n",
      "124/124 [==============================] - 17s 135ms/step - loss: 0.6318 - accuracy: 0.7665 - val_loss: 1.5907 - val_accuracy: 0.3211\n",
      "Epoch 3/20\n",
      "124/124 [==============================] - 16s 130ms/step - loss: 0.5152 - accuracy: 0.8492 - val_loss: 1.1923 - val_accuracy: 0.4908\n",
      "Epoch 4/20\n",
      "124/124 [==============================] - 16s 130ms/step - loss: 0.3942 - accuracy: 0.9310 - val_loss: 1.0523 - val_accuracy: 0.3899\n",
      "Epoch 5/20\n",
      "124/124 [==============================] - 16s 132ms/step - loss: 0.3581 - accuracy: 0.9457 - val_loss: 1.2958 - val_accuracy: 0.3303\n",
      "Epoch 6/20\n",
      "124/124 [==============================] - 16s 130ms/step - loss: 0.3288 - accuracy: 0.9624 - val_loss: 0.6178 - val_accuracy: 0.8349\n",
      "Epoch 7/20\n",
      "124/124 [==============================] - 16s 128ms/step - loss: 0.3242 - accuracy: 0.9711 - val_loss: 1.6024 - val_accuracy: 0.3349\n",
      "Epoch 8/20\n",
      "124/124 [==============================] - 16s 130ms/step - loss: 0.3306 - accuracy: 0.9604 - val_loss: 0.4577 - val_accuracy: 0.9312\n",
      "Epoch 9/20\n",
      "124/124 [==============================] - 16s 130ms/step - loss: 0.3073 - accuracy: 0.9726 - val_loss: 1.2620 - val_accuracy: 0.5596\n",
      "Epoch 10/20\n",
      "124/124 [==============================] - 16s 127ms/step - loss: 0.3039 - accuracy: 0.9736 - val_loss: 0.5312 - val_accuracy: 0.9266\n",
      "Epoch 11/20\n",
      "124/124 [==============================] - 16s 128ms/step - loss: 0.3027 - accuracy: 0.9756 - val_loss: 0.5717 - val_accuracy: 0.8807\n"
     ]
    }
   ],
   "source": [
    "history2_4=model2_4.fit(\n",
    "    train_data_generator,\n",
    "    epochs=20,\n",
    "    verbose=1,\n",
    "    validation_data=validation_data_generator,\n",
    "    shuffle=True,\n",
    "    callbacks=[\n",
    "               EarlyStopping(monitor='val_loss', patience=3),\n",
    "               ModelCheckpoint('weights_b.{epoch:02d}-{val_loss:.2f}.hdf5',monitor='val_loss',save_best_only=True,mode='auto')\n",
    "    ]\n",
    ")"
   ]
  },
  {
   "cell_type": "code",
   "execution_count": 161,
   "metadata": {
    "colab": {
     "base_uri": "https://localhost:8080/",
     "height": 211
    },
    "colab_type": "code",
    "executionInfo": {
     "elapsed": 87796,
     "status": "ok",
     "timestamp": 1592581282443,
     "user": {
      "displayName": "Darlene Nazareth",
      "photoUrl": "https://lh3.googleusercontent.com/a-/AOh14Gj87u9mtP63hASzhUTgLZ96d7ESrUNQCq8pA-0Jvw=s64",
      "userId": "18299010163226169477"
     },
     "user_tz": -330
    },
    "id": "yJbzsArOOdkL",
    "outputId": "9cc99568-d389-433e-e6c1-42fc67156009"
   },
   "outputs": [
    {
     "name": "stdout",
     "output_type": "stream",
     "text": [
      "Epoch 1/20\n",
      "124/124 [==============================] - 17s 141ms/step - loss: 0.6977 - accuracy: 0.7244 - val_loss: 1.4402 - val_accuracy: 0.3303\n",
      "Epoch 2/20\n",
      "124/124 [==============================] - 18s 144ms/step - loss: 0.4374 - accuracy: 0.9051 - val_loss: 0.8476 - val_accuracy: 0.4587\n",
      "Epoch 3/20\n",
      "124/124 [==============================] - 17s 135ms/step - loss: 0.3912 - accuracy: 0.9264 - val_loss: 1.3736 - val_accuracy: 0.4083\n",
      "Epoch 4/20\n",
      "124/124 [==============================] - 16s 132ms/step - loss: 0.3960 - accuracy: 0.9234 - val_loss: 1.1563 - val_accuracy: 0.6193\n",
      "Epoch 5/20\n",
      "124/124 [==============================] - 16s 132ms/step - loss: 0.3546 - accuracy: 0.9503 - val_loss: 0.8646 - val_accuracy: 0.4587\n"
     ]
    }
   ],
   "source": [
    "history2_3=model2_3.fit(\n",
    "    train_data_generator,\n",
    "    epochs=20,\n",
    "    verbose=1,\n",
    "    validation_data=validation_data_generator,\n",
    "    shuffle=True,\n",
    "    callbacks=[\n",
    "               EarlyStopping(monitor='val_loss', patience=3),\n",
    "               ModelCheckpoint('weights.{epoch:02d}-{val_loss:.2f}.hdf5',monitor='val_loss',save_best_only=True,mode='auto')\n",
    "    ]\n",
    ")"
   ]
  },
  {
   "cell_type": "code",
   "execution_count": 114,
   "metadata": {
    "colab": {
     "base_uri": "https://localhost:8080/",
     "height": 245
    },
    "colab_type": "code",
    "executionInfo": {
     "elapsed": 104132,
     "status": "ok",
     "timestamp": 1592573754209,
     "user": {
      "displayName": "Darlene Nazareth",
      "photoUrl": "https://lh3.googleusercontent.com/a-/AOh14Gj87u9mtP63hASzhUTgLZ96d7ESrUNQCq8pA-0Jvw=s64",
      "userId": "18299010163226169477"
     },
     "user_tz": -330
    },
    "id": "zUcBLse7NVnG",
    "outputId": "b440906a-3aa7-4501-98b8-5bc191461bd2"
   },
   "outputs": [
    {
     "name": "stdout",
     "output_type": "stream",
     "text": [
      "Epoch 1/20\n",
      "124/124 [==============================] - 18s 142ms/step - loss: 0.9471 - accuracy: 0.6685 - val_loss: 1.0459 - val_accuracy: 0.3303\n",
      "Epoch 2/20\n",
      "124/124 [==============================] - 17s 134ms/step - loss: 0.7097 - accuracy: 0.8888 - val_loss: 0.9031 - val_accuracy: 0.3303\n",
      "Epoch 3/20\n",
      "124/124 [==============================] - 17s 134ms/step - loss: 0.6389 - accuracy: 0.9421 - val_loss: 0.8657 - val_accuracy: 0.5413\n",
      "Epoch 4/20\n",
      "124/124 [==============================] - 17s 136ms/step - loss: 0.6471 - accuracy: 0.9335 - val_loss: 0.8664 - val_accuracy: 0.4358\n",
      "Epoch 5/20\n",
      "124/124 [==============================] - 16s 133ms/step - loss: 0.6162 - accuracy: 0.9563 - val_loss: 0.9000 - val_accuracy: 0.6422\n",
      "Epoch 6/20\n",
      "124/124 [==============================] - 16s 133ms/step - loss: 0.6147 - accuracy: 0.9584 - val_loss: 1.0231 - val_accuracy: 0.3394\n"
     ]
    }
   ],
   "source": [
    "history2_2=model2_2.fit(\n",
    "    train_data_generator,\n",
    "    epochs=20,\n",
    "    verbose=1,\n",
    "    validation_data=validation_data_generator,\n",
    "    shuffle=True,\n",
    "    callbacks=[\n",
    "               EarlyStopping(monitor='val_loss', patience=3),\n",
    "               ModelCheckpoint('weights.{epoch:02d}-{val_loss:.2f}.hdf5',monitor='val_loss',save_best_only=True,mode='auto')\n",
    "    ]\n",
    ")"
   ]
  },
  {
   "cell_type": "code",
   "execution_count": 117,
   "metadata": {
    "colab": {
     "base_uri": "https://localhost:8080/",
     "height": 731
    },
    "colab_type": "code",
    "executionInfo": {
     "elapsed": 334317,
     "status": "ok",
     "timestamp": 1592575157020,
     "user": {
      "displayName": "Darlene Nazareth",
      "photoUrl": "https://lh3.googleusercontent.com/a-/AOh14Gj87u9mtP63hASzhUTgLZ96d7ESrUNQCq8pA-0Jvw=s64",
      "userId": "18299010163226169477"
     },
     "user_tz": -330
    },
    "id": "R6u8kbnM2xAQ",
    "outputId": "a416dee1-ef5e-4beb-87ec-370f40d36239"
   },
   "outputs": [
    {
     "name": "stdout",
     "output_type": "stream",
     "text": [
      "Epoch 1/20\n",
      "124/124 [==============================] - 17s 137ms/step - loss: 0.6377 - accuracy: 0.9401 - val_loss: 0.9032 - val_accuracy: 0.5505\n",
      "Epoch 2/20\n",
      "124/124 [==============================] - 17s 136ms/step - loss: 0.6339 - accuracy: 0.9391 - val_loss: 1.1303 - val_accuracy: 0.5413\n",
      "Epoch 3/20\n",
      "124/124 [==============================] - 16s 131ms/step - loss: 0.6224 - accuracy: 0.9467 - val_loss: 0.6705 - val_accuracy: 0.8257\n",
      "Epoch 4/20\n",
      "124/124 [==============================] - 17s 135ms/step - loss: 0.6116 - accuracy: 0.9589 - val_loss: 0.6328 - val_accuracy: 0.9266\n",
      "Epoch 5/20\n",
      "124/124 [==============================] - 16s 133ms/step - loss: 0.6043 - accuracy: 0.9685 - val_loss: 1.0453 - val_accuracy: 0.3486\n",
      "Epoch 6/20\n",
      "124/124 [==============================] - 16s 132ms/step - loss: 0.6037 - accuracy: 0.9701 - val_loss: 0.6505 - val_accuracy: 0.9128\n",
      "Epoch 7/20\n",
      "124/124 [==============================] - 16s 133ms/step - loss: 0.6032 - accuracy: 0.9690 - val_loss: 0.6687 - val_accuracy: 0.9541\n",
      "Epoch 8/20\n",
      "124/124 [==============================] - 17s 133ms/step - loss: 0.6009 - accuracy: 0.9660 - val_loss: 0.9173 - val_accuracy: 0.6697\n",
      "Epoch 9/20\n",
      "124/124 [==============================] - 16s 132ms/step - loss: 0.6011 - accuracy: 0.9690 - val_loss: 0.7557 - val_accuracy: 0.7477\n",
      "Epoch 10/20\n",
      "124/124 [==============================] - 16s 133ms/step - loss: 0.5937 - accuracy: 0.9751 - val_loss: 1.1222 - val_accuracy: 0.6009\n",
      "Epoch 11/20\n",
      "124/124 [==============================] - 17s 137ms/step - loss: 0.5965 - accuracy: 0.9741 - val_loss: 0.7025 - val_accuracy: 0.8624\n",
      "Epoch 12/20\n",
      "124/124 [==============================] - 16s 133ms/step - loss: 0.6026 - accuracy: 0.9665 - val_loss: 0.9747 - val_accuracy: 0.5688\n",
      "Epoch 13/20\n",
      "124/124 [==============================] - 17s 134ms/step - loss: 0.6140 - accuracy: 0.9584 - val_loss: 0.8641 - val_accuracy: 0.7477\n",
      "Epoch 14/20\n",
      "124/124 [==============================] - 16s 132ms/step - loss: 0.6012 - accuracy: 0.9695 - val_loss: 0.6783 - val_accuracy: 0.8073\n",
      "Epoch 15/20\n",
      "124/124 [==============================] - 17s 134ms/step - loss: 0.6003 - accuracy: 0.9680 - val_loss: 0.5700 - val_accuracy: 0.9587\n",
      "Epoch 16/20\n",
      "124/124 [==============================] - 17s 137ms/step - loss: 0.5906 - accuracy: 0.9777 - val_loss: 1.0484 - val_accuracy: 0.5046\n",
      "Epoch 17/20\n",
      "124/124 [==============================] - 17s 133ms/step - loss: 0.5898 - accuracy: 0.9817 - val_loss: 0.5883 - val_accuracy: 0.9817\n",
      "Epoch 18/20\n",
      "124/124 [==============================] - 16s 132ms/step - loss: 0.5855 - accuracy: 0.9822 - val_loss: 0.6016 - val_accuracy: 1.0000\n",
      "Epoch 19/20\n",
      "124/124 [==============================] - 17s 134ms/step - loss: 0.6000 - accuracy: 0.9695 - val_loss: 0.5774 - val_accuracy: 0.7202\n",
      "Epoch 20/20\n",
      "124/124 [==============================] - 16s 132ms/step - loss: 0.5995 - accuracy: 0.9690 - val_loss: 1.0320 - val_accuracy: 0.3440\n"
     ]
    }
   ],
   "source": [
    "history2_2_2=model2_2.fit(\n",
    "    train_data_generator,\n",
    "    epochs=20,\n",
    "    verbose=1,\n",
    "    validation_data=validation_data_generator,\n",
    "    shuffle=True,\n",
    "    callbacks=[\n",
    "               ModelCheckpoint('weights.{epoch:02d}-{val_loss:.2f}.hdf5',monitor='val_loss',save_best_only=True,mode='auto')\n",
    "    ]\n",
    ")"
   ]
  },
  {
   "cell_type": "code",
   "execution_count": 120,
   "metadata": {
    "colab": {},
    "colab_type": "code",
    "executionInfo": {
     "elapsed": 1273,
     "status": "ok",
     "timestamp": 1592575842817,
     "user": {
      "displayName": "Darlene Nazareth",
      "photoUrl": "https://lh3.googleusercontent.com/a-/AOh14Gj87u9mtP63hASzhUTgLZ96d7ESrUNQCq8pA-0Jvw=s64",
      "userId": "18299010163226169477"
     },
     "user_tz": -330
    },
    "id": "jniA2qf76lUu"
   },
   "outputs": [],
   "source": [
    "model2_2.load_weights('weights.15-0.57.hdf5')"
   ]
  },
  {
   "cell_type": "code",
   "execution_count": 121,
   "metadata": {
    "colab": {
     "base_uri": "https://localhost:8080/",
     "height": 280
    },
    "colab_type": "code",
    "executionInfo": {
     "elapsed": 120417,
     "status": "ok",
     "timestamp": 1592575986524,
     "user": {
      "displayName": "Darlene Nazareth",
      "photoUrl": "https://lh3.googleusercontent.com/a-/AOh14Gj87u9mtP63hASzhUTgLZ96d7ESrUNQCq8pA-0Jvw=s64",
      "userId": "18299010163226169477"
     },
     "user_tz": -330
    },
    "id": "Ys_ecWtA6Roo",
    "outputId": "e0304305-13d6-4b75-f64c-4a08437efde3"
   },
   "outputs": [
    {
     "name": "stdout",
     "output_type": "stream",
     "text": [
      "Epoch 1/20\n",
      "124/124 [==============================] - 17s 137ms/step - loss: 0.5903 - accuracy: 0.9792 - val_loss: 0.5898 - val_accuracy: 0.9220\n",
      "Epoch 2/20\n",
      "124/124 [==============================] - 17s 136ms/step - loss: 0.5910 - accuracy: 0.9807 - val_loss: 0.5765 - val_accuracy: 0.9725\n",
      "Epoch 3/20\n",
      "124/124 [==============================] - 17s 137ms/step - loss: 0.5862 - accuracy: 0.9822 - val_loss: 0.9983 - val_accuracy: 0.7064\n",
      "Epoch 4/20\n",
      "124/124 [==============================] - 17s 134ms/step - loss: 0.5938 - accuracy: 0.9746 - val_loss: 0.5679 - val_accuracy: 0.9495\n",
      "Epoch 5/20\n",
      "124/124 [==============================] - 17s 138ms/step - loss: 0.5915 - accuracy: 0.9756 - val_loss: 0.9124 - val_accuracy: 0.6835\n",
      "Epoch 6/20\n",
      "124/124 [==============================] - 16s 133ms/step - loss: 0.5855 - accuracy: 0.9822 - val_loss: 0.7907 - val_accuracy: 0.9312\n",
      "Epoch 7/20\n",
      "124/124 [==============================] - 17s 134ms/step - loss: 0.5921 - accuracy: 0.9782 - val_loss: 0.6938 - val_accuracy: 0.6927\n"
     ]
    }
   ],
   "source": [
    "history2_2_3=model2_2.fit(\n",
    "    train_data_generator,\n",
    "    epochs=20,\n",
    "    verbose=1,\n",
    "    validation_data=validation_data_generator,\n",
    "    shuffle=True,\n",
    "    callbacks=[\n",
    "               EarlyStopping(monitor='val_loss', patience=3),\n",
    "               ModelCheckpoint('weights_new.{epoch:02d}-{val_loss:.2f}.hdf5',monitor='val_loss',save_best_only=True,mode='auto')\n",
    "    ]\n",
    ")"
   ]
  },
  {
   "cell_type": "code",
   "execution_count": 486,
   "metadata": {
    "colab": {},
    "colab_type": "code",
    "executionInfo": {
     "elapsed": 1721,
     "status": "ok",
     "timestamp": 1592598792752,
     "user": {
      "displayName": "Darlene Nazareth",
      "photoUrl": "https://lh3.googleusercontent.com/a-/AOh14Gj87u9mtP63hASzhUTgLZ96d7ESrUNQCq8pA-0Jvw=s64",
      "userId": "18299010163226169477"
     },
     "user_tz": -330
    },
    "id": "yw7ancUjzETY"
   },
   "outputs": [],
   "source": [
    "model5.save('final_custom_model7.h5')\n",
    "model5.save_weights('final_custom_weights7.h5')"
   ]
  },
  {
   "cell_type": "code",
   "execution_count": null,
   "metadata": {
    "colab": {},
    "colab_type": "code",
    "id": "ibSRIJTMLg9z"
   },
   "outputs": [],
   "source": [
    "history=model.fit_generator(\n",
    "    train_data_generator,\n",
    "    epochs=5,\n",
    "    verbose=1,\n",
    "    validation_data=validation_data_generator,\n",
    "    shuffle=True,\n",
    "    callbacks=[\n",
    "               EarlyStopping(monitor='val_loss', patience=3),\n",
    "               ModelCheckpoint('weights.{epoch:02d}-{val_loss:.2f}.hdf5',monitor='val_loss',save_best_only=True,mode='auto')\n",
    "    ]\n",
    ")"
   ]
  },
  {
   "cell_type": "code",
   "execution_count": 27,
   "metadata": {
    "colab": {
     "base_uri": "https://localhost:8080/",
     "height": 211
    },
    "colab_type": "code",
    "executionInfo": {
     "elapsed": 87631,
     "status": "ok",
     "timestamp": 1592568885392,
     "user": {
      "displayName": "Darlene Nazareth",
      "photoUrl": "https://lh3.googleusercontent.com/a-/AOh14Gj87u9mtP63hASzhUTgLZ96d7ESrUNQCq8pA-0Jvw=s64",
      "userId": "18299010163226169477"
     },
     "user_tz": -330
    },
    "id": "et3As8bQeLNu",
    "outputId": "d3bdb56a-451f-4d87-cddf-faaa74c92200"
   },
   "outputs": [
    {
     "name": "stdout",
     "output_type": "stream",
     "text": [
      "Epoch 1/5\n",
      "110/110 [==============================] - 18s 166ms/step - loss: 1.1214 - accuracy: 0.3244 - val_loss: 1.1177 - val_accuracy: 0.3249\n",
      "Epoch 2/5\n",
      "110/110 [==============================] - 17s 152ms/step - loss: 1.1104 - accuracy: 0.3312 - val_loss: 1.1102 - val_accuracy: 0.3249\n",
      "Epoch 3/5\n",
      "110/110 [==============================] - 17s 155ms/step - loss: 1.1077 - accuracy: 0.3221 - val_loss: 1.1042 - val_accuracy: 0.3249\n",
      "Epoch 4/5\n",
      "110/110 [==============================] - 17s 152ms/step - loss: 1.1012 - accuracy: 0.3255 - val_loss: 1.0993 - val_accuracy: 0.3249\n",
      "Epoch 5/5\n",
      "110/110 [==============================] - 17s 152ms/step - loss: 1.0978 - accuracy: 0.3255 - val_loss: 1.1270 - val_accuracy: 0.3249\n"
     ]
    }
   ],
   "source": [
    "history3=model3.fit_generator(\n",
    "    train_data_generator,\n",
    "    epochs=20,\n",
    "    verbose=1,\n",
    "    validation_data=validation_data_generator,\n",
    "    shuffle=True,\n",
    "    callbacks=[\n",
    "               EarlyStopping(monitor='val_loss', patience=3),\n",
    "               ModelCheckpoint('weights.{epoch:02d}-{val_loss:.2f}.hdf5',monitor='val_loss',save_best_only=True,mode='auto')\n",
    "    ]\n",
    ")"
   ]
  },
  {
   "cell_type": "code",
   "execution_count": 42,
   "metadata": {
    "colab": {
     "base_uri": "https://localhost:8080/",
     "height": 678
    },
    "colab_type": "code",
    "executionInfo": {
     "elapsed": 141714,
     "status": "error",
     "timestamp": 1592570366928,
     "user": {
      "displayName": "Darlene Nazareth",
      "photoUrl": "https://lh3.googleusercontent.com/a-/AOh14Gj87u9mtP63hASzhUTgLZ96d7ESrUNQCq8pA-0Jvw=s64",
      "userId": "18299010163226169477"
     },
     "user_tz": -330
    },
    "id": "ASRB6FSCfyks",
    "outputId": "0138ca25-2b85-4f02-d7b6-ccddf79d4285"
   },
   "outputs": [
    {
     "name": "stdout",
     "output_type": "stream",
     "text": [
      "Epoch 1/20\n",
      "110/110 [==============================] - 19s 175ms/step - loss: 1.1489 - accuracy: 0.3312 - val_loss: 1.1323 - val_accuracy: 0.3318\n",
      "Epoch 2/20\n",
      "110/110 [==============================] - 17s 158ms/step - loss: 1.1014 - accuracy: 0.3221 - val_loss: 1.0989 - val_accuracy: 0.3249\n",
      "Epoch 3/20\n",
      "110/110 [==============================] - 17s 157ms/step - loss: 1.0990 - accuracy: 0.3238 - val_loss: 1.0987 - val_accuracy: 0.3249\n",
      "Epoch 4/20\n",
      "110/110 [==============================] - 17s 158ms/step - loss: 1.0987 - accuracy: 0.3255 - val_loss: 1.0986 - val_accuracy: 0.3249\n",
      "Epoch 5/20\n",
      "110/110 [==============================] - 17s 157ms/step - loss: 1.0986 - accuracy: 0.3255 - val_loss: 1.0986 - val_accuracy: 0.3249\n",
      "Epoch 6/20\n",
      "110/110 [==============================] - 18s 160ms/step - loss: 1.0986 - accuracy: 0.3255 - val_loss: 1.0986 - val_accuracy: 0.3249\n",
      "Epoch 7/20\n",
      "110/110 [==============================] - 18s 160ms/step - loss: 1.0986 - accuracy: 0.3255 - val_loss: 1.0986 - val_accuracy: 0.3249\n",
      "Epoch 8/20\n",
      " 90/110 [=======================>......] - ETA: 2s - loss: 1.0986 - accuracy: 0.3242"
     ]
    },
    {
     "ename": "KeyboardInterrupt",
     "evalue": "ignored",
     "output_type": "error",
     "traceback": [
      "\u001b[0;31m---------------------------------------------------------------------------\u001b[0m",
      "\u001b[0;31mKeyboardInterrupt\u001b[0m                         Traceback (most recent call last)",
      "\u001b[0;32m<ipython-input-42-b3adba35178f>\u001b[0m in \u001b[0;36m<module>\u001b[0;34m()\u001b[0m\n\u001b[1;32m      7\u001b[0m     callbacks=[\n\u001b[1;32m      8\u001b[0m                \u001b[0mEarlyStopping\u001b[0m\u001b[0;34m(\u001b[0m\u001b[0mmonitor\u001b[0m\u001b[0;34m=\u001b[0m\u001b[0;34m'val_loss'\u001b[0m\u001b[0;34m,\u001b[0m \u001b[0mpatience\u001b[0m\u001b[0;34m=\u001b[0m\u001b[0;36m3\u001b[0m\u001b[0;34m)\u001b[0m\u001b[0;34m,\u001b[0m\u001b[0;34m\u001b[0m\u001b[0;34m\u001b[0m\u001b[0m\n\u001b[0;32m----> 9\u001b[0;31m                \u001b[0mModelCheckpoint\u001b[0m\u001b[0;34m(\u001b[0m\u001b[0;34m'weights.{epoch:02d}-{val_loss:.2f}.hdf5'\u001b[0m\u001b[0;34m,\u001b[0m\u001b[0mmonitor\u001b[0m\u001b[0;34m=\u001b[0m\u001b[0;34m'val_loss'\u001b[0m\u001b[0;34m,\u001b[0m\u001b[0msave_best_only\u001b[0m\u001b[0;34m=\u001b[0m\u001b[0;32mTrue\u001b[0m\u001b[0;34m,\u001b[0m\u001b[0mmode\u001b[0m\u001b[0;34m=\u001b[0m\u001b[0;34m'auto'\u001b[0m\u001b[0;34m)\u001b[0m\u001b[0;34m\u001b[0m\u001b[0;34m\u001b[0m\u001b[0m\n\u001b[0m\u001b[1;32m     10\u001b[0m     ]\n\u001b[1;32m     11\u001b[0m )\n",
      "\u001b[0;32m/usr/local/lib/python3.6/dist-packages/keras/legacy/interfaces.py\u001b[0m in \u001b[0;36mwrapper\u001b[0;34m(*args, **kwargs)\u001b[0m\n\u001b[1;32m     89\u001b[0m                 warnings.warn('Update your `' + object_name + '` call to the ' +\n\u001b[1;32m     90\u001b[0m                               'Keras 2 API: ' + signature, stacklevel=2)\n\u001b[0;32m---> 91\u001b[0;31m             \u001b[0;32mreturn\u001b[0m \u001b[0mfunc\u001b[0m\u001b[0;34m(\u001b[0m\u001b[0;34m*\u001b[0m\u001b[0margs\u001b[0m\u001b[0;34m,\u001b[0m \u001b[0;34m**\u001b[0m\u001b[0mkwargs\u001b[0m\u001b[0;34m)\u001b[0m\u001b[0;34m\u001b[0m\u001b[0;34m\u001b[0m\u001b[0m\n\u001b[0m\u001b[1;32m     92\u001b[0m         \u001b[0mwrapper\u001b[0m\u001b[0;34m.\u001b[0m\u001b[0m_original_function\u001b[0m \u001b[0;34m=\u001b[0m \u001b[0mfunc\u001b[0m\u001b[0;34m\u001b[0m\u001b[0;34m\u001b[0m\u001b[0m\n\u001b[1;32m     93\u001b[0m         \u001b[0;32mreturn\u001b[0m \u001b[0mwrapper\u001b[0m\u001b[0;34m\u001b[0m\u001b[0;34m\u001b[0m\u001b[0m\n",
      "\u001b[0;32m/usr/local/lib/python3.6/dist-packages/keras/engine/training.py\u001b[0m in \u001b[0;36mfit_generator\u001b[0;34m(self, generator, steps_per_epoch, epochs, verbose, callbacks, validation_data, validation_steps, validation_freq, class_weight, max_queue_size, workers, use_multiprocessing, shuffle, initial_epoch)\u001b[0m\n\u001b[1;32m   1730\u001b[0m             \u001b[0muse_multiprocessing\u001b[0m\u001b[0;34m=\u001b[0m\u001b[0muse_multiprocessing\u001b[0m\u001b[0;34m,\u001b[0m\u001b[0;34m\u001b[0m\u001b[0;34m\u001b[0m\u001b[0m\n\u001b[1;32m   1731\u001b[0m             \u001b[0mshuffle\u001b[0m\u001b[0;34m=\u001b[0m\u001b[0mshuffle\u001b[0m\u001b[0;34m,\u001b[0m\u001b[0;34m\u001b[0m\u001b[0;34m\u001b[0m\u001b[0m\n\u001b[0;32m-> 1732\u001b[0;31m             initial_epoch=initial_epoch)\n\u001b[0m\u001b[1;32m   1733\u001b[0m \u001b[0;34m\u001b[0m\u001b[0m\n\u001b[1;32m   1734\u001b[0m     \u001b[0;34m@\u001b[0m\u001b[0minterfaces\u001b[0m\u001b[0;34m.\u001b[0m\u001b[0mlegacy_generator_methods_support\u001b[0m\u001b[0;34m\u001b[0m\u001b[0;34m\u001b[0m\u001b[0m\n",
      "\u001b[0;32m/usr/local/lib/python3.6/dist-packages/keras/engine/training_generator.py\u001b[0m in \u001b[0;36mfit_generator\u001b[0;34m(model, generator, steps_per_epoch, epochs, verbose, callbacks, validation_data, validation_steps, validation_freq, class_weight, max_queue_size, workers, use_multiprocessing, shuffle, initial_epoch)\u001b[0m\n\u001b[1;32m    183\u001b[0m             \u001b[0mbatch_index\u001b[0m \u001b[0;34m=\u001b[0m \u001b[0;36m0\u001b[0m\u001b[0;34m\u001b[0m\u001b[0;34m\u001b[0m\u001b[0m\n\u001b[1;32m    184\u001b[0m             \u001b[0;32mwhile\u001b[0m \u001b[0msteps_done\u001b[0m \u001b[0;34m<\u001b[0m \u001b[0msteps_per_epoch\u001b[0m\u001b[0;34m:\u001b[0m\u001b[0;34m\u001b[0m\u001b[0;34m\u001b[0m\u001b[0m\n\u001b[0;32m--> 185\u001b[0;31m                 \u001b[0mgenerator_output\u001b[0m \u001b[0;34m=\u001b[0m \u001b[0mnext\u001b[0m\u001b[0;34m(\u001b[0m\u001b[0moutput_generator\u001b[0m\u001b[0;34m)\u001b[0m\u001b[0;34m\u001b[0m\u001b[0;34m\u001b[0m\u001b[0m\n\u001b[0m\u001b[1;32m    186\u001b[0m \u001b[0;34m\u001b[0m\u001b[0m\n\u001b[1;32m    187\u001b[0m                 \u001b[0;32mif\u001b[0m \u001b[0;32mnot\u001b[0m \u001b[0mhasattr\u001b[0m\u001b[0;34m(\u001b[0m\u001b[0mgenerator_output\u001b[0m\u001b[0;34m,\u001b[0m \u001b[0;34m'__len__'\u001b[0m\u001b[0;34m)\u001b[0m\u001b[0;34m:\u001b[0m\u001b[0;34m\u001b[0m\u001b[0;34m\u001b[0m\u001b[0m\n",
      "\u001b[0;32m/usr/local/lib/python3.6/dist-packages/keras/utils/data_utils.py\u001b[0m in \u001b[0;36mget\u001b[0;34m(self)\u001b[0m\n\u001b[1;32m    608\u001b[0m                 \u001b[0;32mtry\u001b[0m\u001b[0;34m:\u001b[0m\u001b[0;34m\u001b[0m\u001b[0;34m\u001b[0m\u001b[0m\n\u001b[1;32m    609\u001b[0m                     \u001b[0mfuture\u001b[0m \u001b[0;34m=\u001b[0m \u001b[0mself\u001b[0m\u001b[0;34m.\u001b[0m\u001b[0mqueue\u001b[0m\u001b[0;34m.\u001b[0m\u001b[0mget\u001b[0m\u001b[0;34m(\u001b[0m\u001b[0mblock\u001b[0m\u001b[0;34m=\u001b[0m\u001b[0;32mTrue\u001b[0m\u001b[0;34m)\u001b[0m\u001b[0;34m\u001b[0m\u001b[0;34m\u001b[0m\u001b[0m\n\u001b[0;32m--> 610\u001b[0;31m                     \u001b[0minputs\u001b[0m \u001b[0;34m=\u001b[0m \u001b[0mfuture\u001b[0m\u001b[0;34m.\u001b[0m\u001b[0mget\u001b[0m\u001b[0;34m(\u001b[0m\u001b[0mtimeout\u001b[0m\u001b[0;34m=\u001b[0m\u001b[0;36m30\u001b[0m\u001b[0;34m)\u001b[0m\u001b[0;34m\u001b[0m\u001b[0;34m\u001b[0m\u001b[0m\n\u001b[0m\u001b[1;32m    611\u001b[0m                 \u001b[0;32mexcept\u001b[0m \u001b[0mmp\u001b[0m\u001b[0;34m.\u001b[0m\u001b[0mTimeoutError\u001b[0m\u001b[0;34m:\u001b[0m\u001b[0;34m\u001b[0m\u001b[0;34m\u001b[0m\u001b[0m\n\u001b[1;32m    612\u001b[0m                     \u001b[0midx\u001b[0m \u001b[0;34m=\u001b[0m \u001b[0mfuture\u001b[0m\u001b[0;34m.\u001b[0m\u001b[0midx\u001b[0m\u001b[0;34m\u001b[0m\u001b[0;34m\u001b[0m\u001b[0m\n",
      "\u001b[0;32m/usr/lib/python3.6/multiprocessing/pool.py\u001b[0m in \u001b[0;36mget\u001b[0;34m(self, timeout)\u001b[0m\n\u001b[1;32m    636\u001b[0m \u001b[0;34m\u001b[0m\u001b[0m\n\u001b[1;32m    637\u001b[0m     \u001b[0;32mdef\u001b[0m \u001b[0mget\u001b[0m\u001b[0;34m(\u001b[0m\u001b[0mself\u001b[0m\u001b[0;34m,\u001b[0m \u001b[0mtimeout\u001b[0m\u001b[0;34m=\u001b[0m\u001b[0;32mNone\u001b[0m\u001b[0;34m)\u001b[0m\u001b[0;34m:\u001b[0m\u001b[0;34m\u001b[0m\u001b[0;34m\u001b[0m\u001b[0m\n\u001b[0;32m--> 638\u001b[0;31m         \u001b[0mself\u001b[0m\u001b[0;34m.\u001b[0m\u001b[0mwait\u001b[0m\u001b[0;34m(\u001b[0m\u001b[0mtimeout\u001b[0m\u001b[0;34m)\u001b[0m\u001b[0;34m\u001b[0m\u001b[0;34m\u001b[0m\u001b[0m\n\u001b[0m\u001b[1;32m    639\u001b[0m         \u001b[0;32mif\u001b[0m \u001b[0;32mnot\u001b[0m \u001b[0mself\u001b[0m\u001b[0;34m.\u001b[0m\u001b[0mready\u001b[0m\u001b[0;34m(\u001b[0m\u001b[0;34m)\u001b[0m\u001b[0;34m:\u001b[0m\u001b[0;34m\u001b[0m\u001b[0;34m\u001b[0m\u001b[0m\n\u001b[1;32m    640\u001b[0m             \u001b[0;32mraise\u001b[0m \u001b[0mTimeoutError\u001b[0m\u001b[0;34m\u001b[0m\u001b[0;34m\u001b[0m\u001b[0m\n",
      "\u001b[0;32m/usr/lib/python3.6/multiprocessing/pool.py\u001b[0m in \u001b[0;36mwait\u001b[0;34m(self, timeout)\u001b[0m\n\u001b[1;32m    633\u001b[0m \u001b[0;34m\u001b[0m\u001b[0m\n\u001b[1;32m    634\u001b[0m     \u001b[0;32mdef\u001b[0m \u001b[0mwait\u001b[0m\u001b[0;34m(\u001b[0m\u001b[0mself\u001b[0m\u001b[0;34m,\u001b[0m \u001b[0mtimeout\u001b[0m\u001b[0;34m=\u001b[0m\u001b[0;32mNone\u001b[0m\u001b[0;34m)\u001b[0m\u001b[0;34m:\u001b[0m\u001b[0;34m\u001b[0m\u001b[0;34m\u001b[0m\u001b[0m\n\u001b[0;32m--> 635\u001b[0;31m         \u001b[0mself\u001b[0m\u001b[0;34m.\u001b[0m\u001b[0m_event\u001b[0m\u001b[0;34m.\u001b[0m\u001b[0mwait\u001b[0m\u001b[0;34m(\u001b[0m\u001b[0mtimeout\u001b[0m\u001b[0;34m)\u001b[0m\u001b[0;34m\u001b[0m\u001b[0;34m\u001b[0m\u001b[0m\n\u001b[0m\u001b[1;32m    636\u001b[0m \u001b[0;34m\u001b[0m\u001b[0m\n\u001b[1;32m    637\u001b[0m     \u001b[0;32mdef\u001b[0m \u001b[0mget\u001b[0m\u001b[0;34m(\u001b[0m\u001b[0mself\u001b[0m\u001b[0;34m,\u001b[0m \u001b[0mtimeout\u001b[0m\u001b[0;34m=\u001b[0m\u001b[0;32mNone\u001b[0m\u001b[0;34m)\u001b[0m\u001b[0;34m:\u001b[0m\u001b[0;34m\u001b[0m\u001b[0;34m\u001b[0m\u001b[0m\n",
      "\u001b[0;32m/usr/lib/python3.6/threading.py\u001b[0m in \u001b[0;36mwait\u001b[0;34m(self, timeout)\u001b[0m\n\u001b[1;32m    549\u001b[0m             \u001b[0msignaled\u001b[0m \u001b[0;34m=\u001b[0m \u001b[0mself\u001b[0m\u001b[0;34m.\u001b[0m\u001b[0m_flag\u001b[0m\u001b[0;34m\u001b[0m\u001b[0;34m\u001b[0m\u001b[0m\n\u001b[1;32m    550\u001b[0m             \u001b[0;32mif\u001b[0m \u001b[0;32mnot\u001b[0m \u001b[0msignaled\u001b[0m\u001b[0;34m:\u001b[0m\u001b[0;34m\u001b[0m\u001b[0;34m\u001b[0m\u001b[0m\n\u001b[0;32m--> 551\u001b[0;31m                 \u001b[0msignaled\u001b[0m \u001b[0;34m=\u001b[0m \u001b[0mself\u001b[0m\u001b[0;34m.\u001b[0m\u001b[0m_cond\u001b[0m\u001b[0;34m.\u001b[0m\u001b[0mwait\u001b[0m\u001b[0;34m(\u001b[0m\u001b[0mtimeout\u001b[0m\u001b[0;34m)\u001b[0m\u001b[0;34m\u001b[0m\u001b[0;34m\u001b[0m\u001b[0m\n\u001b[0m\u001b[1;32m    552\u001b[0m             \u001b[0;32mreturn\u001b[0m \u001b[0msignaled\u001b[0m\u001b[0;34m\u001b[0m\u001b[0;34m\u001b[0m\u001b[0m\n\u001b[1;32m    553\u001b[0m \u001b[0;34m\u001b[0m\u001b[0m\n",
      "\u001b[0;32m/usr/lib/python3.6/threading.py\u001b[0m in \u001b[0;36mwait\u001b[0;34m(self, timeout)\u001b[0m\n\u001b[1;32m    297\u001b[0m             \u001b[0;32melse\u001b[0m\u001b[0;34m:\u001b[0m\u001b[0;34m\u001b[0m\u001b[0;34m\u001b[0m\u001b[0m\n\u001b[1;32m    298\u001b[0m                 \u001b[0;32mif\u001b[0m \u001b[0mtimeout\u001b[0m \u001b[0;34m>\u001b[0m \u001b[0;36m0\u001b[0m\u001b[0;34m:\u001b[0m\u001b[0;34m\u001b[0m\u001b[0;34m\u001b[0m\u001b[0m\n\u001b[0;32m--> 299\u001b[0;31m                     \u001b[0mgotit\u001b[0m \u001b[0;34m=\u001b[0m \u001b[0mwaiter\u001b[0m\u001b[0;34m.\u001b[0m\u001b[0macquire\u001b[0m\u001b[0;34m(\u001b[0m\u001b[0;32mTrue\u001b[0m\u001b[0;34m,\u001b[0m \u001b[0mtimeout\u001b[0m\u001b[0;34m)\u001b[0m\u001b[0;34m\u001b[0m\u001b[0;34m\u001b[0m\u001b[0m\n\u001b[0m\u001b[1;32m    300\u001b[0m                 \u001b[0;32melse\u001b[0m\u001b[0;34m:\u001b[0m\u001b[0;34m\u001b[0m\u001b[0;34m\u001b[0m\u001b[0m\n\u001b[1;32m    301\u001b[0m                     \u001b[0mgotit\u001b[0m \u001b[0;34m=\u001b[0m \u001b[0mwaiter\u001b[0m\u001b[0;34m.\u001b[0m\u001b[0macquire\u001b[0m\u001b[0;34m(\u001b[0m\u001b[0;32mFalse\u001b[0m\u001b[0;34m)\u001b[0m\u001b[0;34m\u001b[0m\u001b[0;34m\u001b[0m\u001b[0m\n",
      "\u001b[0;31mKeyboardInterrupt\u001b[0m: "
     ]
    }
   ],
   "source": [
    "history2_1=model2_1.fit_generator(\n",
    "    train_data_generator,\n",
    "    epochs=20,\n",
    "    verbose=1,\n",
    "    validation_data=validation_data_generator,\n",
    "    shuffle=True,\n",
    "    callbacks=[\n",
    "               EarlyStopping(monitor='val_loss', patience=3),\n",
    "               ModelCheckpoint('weights.{epoch:02d}-{val_loss:.2f}.hdf5',monitor='val_loss',save_best_only=True,mode='auto')\n",
    "    ]\n",
    ")"
   ]
  },
  {
   "cell_type": "code",
   "execution_count": 341,
   "metadata": {
    "colab": {
     "base_uri": "https://localhost:8080/",
     "height": 651
    },
    "colab_type": "code",
    "executionInfo": {
     "elapsed": 2200,
     "status": "ok",
     "timestamp": 1592592644050,
     "user": {
      "displayName": "Darlene Nazareth",
      "photoUrl": "https://lh3.googleusercontent.com/a-/AOh14Gj87u9mtP63hASzhUTgLZ96d7ESrUNQCq8pA-0Jvw=s64",
      "userId": "18299010163226169477"
     },
     "user_tz": -330
    },
    "id": "rJql6LrykMPM",
    "outputId": "e535c19f-a75b-4fda-852b-e12bce841eb0"
   },
   "outputs": [
    {
     "name": "stdout",
     "output_type": "stream",
     "text": [
      "dict_keys(['val_loss', 'val_accuracy', 'loss', 'accuracy'])\n"
     ]
    },
    {
     "data": {
      "image/png": "[encoded data removed]",
      "text/plain": [
       "<Figure size 432x288 with 1 Axes>"
      ]
     },
     "metadata": {
      "tags": []
     },
     "output_type": "display_data"
    },
    {
     "data": {
      "image/png": "[encoded data removed]",
      "text/plain": [
       "<Figure size 432x288 with 1 Axes>"
      ]
     },
     "metadata": {
      "tags": []
     },
     "output_type": "display_data"
    }
   ],
   "source": [
    "print(complete_train_history.keys())\n",
    "\n",
    "plt.style.use('fivethirtyeight')\n",
    "# summarize history for accuracy\n",
    "plt.plot(complete_train_history['accuracy'])\n",
    "plt.plot(complete_train_history['val_accuracy'])\n",
    "plt.title('model accuracy')\n",
    "plt.ylabel('accuracy')\n",
    "plt.xlabel('epoch')\n",
    "plt.legend(['Training', 'Validation'], loc='upper left')\n",
    "plt.show()\n",
    "# summarize history for loss\n",
    "plt.plot(complete_train_history['loss'])\n",
    "plt.plot(complete_train_history['val_loss'])\n",
    "plt.title('model loss')\n",
    "plt.ylabel('loss')\n",
    "plt.xlabel('epoch')\n",
    "plt.legend(['Training', 'Validation'], loc='upper left')\n",
    "plt.show()"
   ]
  },
  {
   "cell_type": "code",
   "execution_count": 136,
   "metadata": {
    "colab": {},
    "colab_type": "code",
    "executionInfo": {
     "elapsed": 1589,
     "status": "ok",
     "timestamp": 1592578233337,
     "user": {
      "displayName": "Darlene Nazareth",
      "photoUrl": "https://lh3.googleusercontent.com/a-/AOh14Gj87u9mtP63hASzhUTgLZ96d7ESrUNQCq8pA-0Jvw=s64",
      "userId": "18299010163226169477"
     },
     "user_tz": -330
    },
    "id": "ZIqghRVe99Cy"
   },
   "outputs": [],
   "source": [
    "complete_train_history = {'val_loss':[],'val_accuracy':[],'loss':[],'accuracy':[]}\n",
    "complete_train_history['val_loss'] = history2_2.history['val_loss'] + history2_2_2.history['val_loss'] + history2_2_3.history['val_loss']\n",
    "complete_train_history['val_accuracy'] = history2_2.history['val_accuracy'] + history2_2_2.history['val_accuracy'] + history2_2_3.history['val_accuracy']\n",
    "complete_train_history['loss'] = history2_2.history['loss'] + history2_2_2.history['loss'] + history2_2_3.history['loss']\n",
    "complete_train_history['accuracy'] = history2_2.history['accuracy'] + history2_2_2.history['accuracy'] + history2_2_3.history['accuracy']\n"
   ]
  },
  {
   "cell_type": "code",
   "execution_count": null,
   "metadata": {
    "colab": {},
    "colab_type": "code",
    "id": "FgnFS1WeEiaU"
   },
   "outputs": [],
   "source": [
    "complete_train_history"
   ]
  },
  {
   "cell_type": "code",
   "execution_count": 268,
   "metadata": {
    "colab": {
     "base_uri": "https://localhost:8080/",
     "height": 72
    },
    "colab_type": "code",
    "executionInfo": {
     "elapsed": 4806,
     "status": "ok",
     "timestamp": 1592587562320,
     "user": {
      "displayName": "Darlene Nazareth",
      "photoUrl": "https://lh3.googleusercontent.com/a-/AOh14Gj87u9mtP63hASzhUTgLZ96d7ESrUNQCq8pA-0Jvw=s64",
      "userId": "18299010163226169477"
     },
     "user_tz": -330
    },
    "id": "2xjy7r59nET1",
    "outputId": "12115841-f910-4788-ba97-a31bfb76aebe"
   },
   "outputs": [
    {
     "name": "stderr",
     "output_type": "stream",
     "text": [
      "/usr/local/lib/python3.6/dist-packages/keras_applications/resnet50.py:265: UserWarning: The output shape of `ResNet50(include_top=False)` has been changed since Keras 2.2.0.\n",
      "  warnings.warn('The output shape of `ResNet50(include_top=False)` '\n"
     ]
    }
   ],
   "source": [
    "inception_base = k.applications.ResNet50(weights='imagenet',input_shape=(100,100,3), include_top=False)\n",
    "\n",
    "x = inception_base.output\n",
    "x = GlobalAveragePooling2D()(x)\n",
    "x = Dense(512, activation='relu')(x)\n",
    "predictions = Dense(3, activation='softmax')(x)\n",
    "inception_transfer = Model(inputs=inception_base.input, outputs=predictions)"
   ]
  },
  {
   "cell_type": "code",
   "execution_count": 272,
   "metadata": {
    "colab": {},
    "colab_type": "code",
    "executionInfo": {
     "elapsed": 1276,
     "status": "ok",
     "timestamp": 1592587662456,
     "user": {
      "displayName": "Darlene Nazareth",
      "photoUrl": "https://lh3.googleusercontent.com/a-/AOh14Gj87u9mtP63hASzhUTgLZ96d7ESrUNQCq8pA-0Jvw=s64",
      "userId": "18299010163226169477"
     },
     "user_tz": -330
    },
    "id": "Z5bnNZ9-niX1"
   },
   "outputs": [],
   "source": [
    "inception_transfer.compile(loss='categorical_crossentropy',\n",
    "              optimizer=Adam(learning_rate=1e-4,amsgrad=True),\n",
    "              metrics=['accuracy'])"
   ]
  },
  {
   "cell_type": "code",
   "execution_count": 273,
   "metadata": {
    "colab": {
     "base_uri": "https://localhost:8080/",
     "height": 211
    },
    "colab_type": "code",
    "executionInfo": {
     "elapsed": 275004,
     "status": "ok",
     "timestamp": 1592588018253,
     "user": {
      "displayName": "Darlene Nazareth",
      "photoUrl": "https://lh3.googleusercontent.com/a-/AOh14Gj87u9mtP63hASzhUTgLZ96d7ESrUNQCq8pA-0Jvw=s64",
      "userId": "18299010163226169477"
     },
     "user_tz": -330
    },
    "id": "gopZTWZ4n2ce",
    "outputId": "fde7abe7-5dba-4cca-f3f1-95131bada76a"
   },
   "outputs": [
    {
     "name": "stdout",
     "output_type": "stream",
     "text": [
      "Epoch 1/5\n",
      "110/110 [==============================] - 64s 584ms/step - loss: 0.1115 - accuracy: 0.9595 - val_loss: 5.2455 - val_accuracy: 0.3318\n",
      "Epoch 2/5\n",
      "110/110 [==============================] - 44s 396ms/step - loss: 0.0370 - accuracy: 0.9914 - val_loss: 9.9892 - val_accuracy: 0.3318\n",
      "Epoch 3/5\n",
      "110/110 [==============================] - 43s 390ms/step - loss: 0.0345 - accuracy: 0.9931 - val_loss: 2.5203 - val_accuracy: 0.4005\n",
      "Epoch 4/5\n",
      "110/110 [==============================] - 43s 391ms/step - loss: 0.0421 - accuracy: 0.9891 - val_loss: 3.9079 - val_accuracy: 0.3410\n",
      "Epoch 5/5\n",
      "110/110 [==============================] - 43s 390ms/step - loss: 0.0402 - accuracy: 0.9926 - val_loss: 0.9977 - val_accuracy: 0.4828\n"
     ]
    }
   ],
   "source": [
    "with tf.device(\"/device:GPU:0\"):\n",
    "    history_pretrained = inception_transfer.fit(\n",
    "    train_data_generator,\n",
    "    epochs = 5, \n",
    "    shuffle = True, \n",
    "    verbose = 1, \n",
    "    callbacks = [EarlyStopping(monitor='val_loss', patience=3),\n",
    "               ModelCheckpoint('weights.{epoch:02d}-{val_loss:.2f}.hdf5',monitor='val_loss',save_best_only=True,mode='auto')],\n",
    "    validation_data = validation_data_generator)"
   ]
  },
  {
   "cell_type": "code",
   "execution_count": 141,
   "metadata": {
    "colab": {},
    "colab_type": "code",
    "executionInfo": {
     "elapsed": 704,
     "status": "ok",
     "timestamp": 1592580190156,
     "user": {
      "displayName": "Darlene Nazareth",
      "photoUrl": "https://lh3.googleusercontent.com/a-/AOh14Gj87u9mtP63hASzhUTgLZ96d7ESrUNQCq8pA-0Jvw=s64",
      "userId": "18299010163226169477"
     },
     "user_tz": -330
    },
    "id": "urmc74EsLRuS"
   },
   "outputs": [],
   "source": [
    "import os"
   ]
  },
  {
   "cell_type": "code",
   "execution_count": 277,
   "metadata": {
    "colab": {},
    "colab_type": "code",
    "executionInfo": {
     "elapsed": 1602,
     "status": "ok",
     "timestamp": 1592588655809,
     "user": {
      "displayName": "Darlene Nazareth",
      "photoUrl": "https://lh3.googleusercontent.com/a-/AOh14Gj87u9mtP63hASzhUTgLZ96d7ESrUNQCq8pA-0Jvw=s64",
      "userId": "18299010163226169477"
     },
     "user_tz": -330
    },
    "id": "5t3kmgmyeNi4"
   },
   "outputs": [],
   "source": [
    "model2= load_model(filepath=\"final_model2.h5\")\n",
    "# model2.load_weights('weights_c.08-0.59.hdf5')"
   ]
  },
  {
   "cell_type": "code",
   "execution_count": 333,
   "metadata": {
    "colab": {
     "base_uri": "https://localhost:8080/",
     "height": 87
    },
    "colab_type": "code",
    "executionInfo": {
     "elapsed": 2748,
     "status": "ok",
     "timestamp": 1592591907205,
     "user": {
      "displayName": "Darlene Nazareth",
      "photoUrl": "https://lh3.googleusercontent.com/a-/AOh14Gj87u9mtP63hASzhUTgLZ96d7ESrUNQCq8pA-0Jvw=s64",
      "userId": "18299010163226169477"
     },
     "user_tz": -330
    },
    "id": "LZXTgqKIErKh",
    "outputId": "0ca3b44d-b45d-47b8-b8a5-b911a1c316a3"
   },
   "outputs": [
    {
     "name": "stdout",
     "output_type": "stream",
     "text": [
      "(1, 100, 100, 3)\n",
      "0.99996555\n",
      "[1]\n",
      "rock\n"
     ]
    }
   ],
   "source": [
    "x=cv2.imread('Dataset/rock/01dM3ewPIsnBICu1.png')\n",
    "x=cv2.resize(x,(100,100))\n",
    "x = x / 255\n",
    "img_arr=np.array(x)\n",
    "img = np.array([img_arr])\n",
    "print(img.shape)\n",
    "y=model5.predict(img)\n",
    "print(np.max(y))\n",
    "print(np.argmax(y,axis=1))\n",
    "print(os.listdir('Dataset')[np.argmax(y,axis=1)[0]])\n"
   ]
  },
  {
   "cell_type": "code",
   "execution_count": 474,
   "metadata": {
    "colab": {
     "base_uri": "https://localhost:8080/",
     "height": 87
    },
    "colab_type": "code",
    "executionInfo": {
     "elapsed": 1211,
     "status": "ok",
     "timestamp": 1592598674094,
     "user": {
      "displayName": "Darlene Nazareth",
      "photoUrl": "https://lh3.googleusercontent.com/a-/AOh14Gj87u9mtP63hASzhUTgLZ96d7ESrUNQCq8pA-0Jvw=s64",
      "userId": "18299010163226169477"
     },
     "user_tz": -330
    },
    "id": "z5mxLfnrI5ra",
    "outputId": "a1538a8f-997a-4b28-a92f-eb84b8174c35"
   },
   "outputs": [
    {
     "name": "stdout",
     "output_type": "stream",
     "text": [
      "(1, 100, 100, 3)\n",
      "0.9971143\n",
      "[1]\n",
      "rock\n"
     ]
    }
   ],
   "source": [
    "# after error\n",
    "x=cv2.imread('Dataset/rock/01dM3ewPIsnBICu1.png')\n",
    "x=cv2.resize(x,(100,100))\n",
    "x = x / 255\n",
    "img_arr=np.array(x)\n",
    "img = np.array([img_arr])\n",
    "print(img.shape)\n",
    "y=model5.predict(img)\n",
    "print(np.max(y))\n",
    "print(np.argmax(y,axis=1))\n",
    "print(os.listdir('Dataset')[np.argmax(y,axis=1)[0]])"
   ]
  },
  {
   "cell_type": "code",
   "execution_count": 334,
   "metadata": {
    "colab": {
     "base_uri": "https://localhost:8080/",
     "height": 87
    },
    "colab_type": "code",
    "executionInfo": {
     "elapsed": 1194,
     "status": "ok",
     "timestamp": 1592591910081,
     "user": {
      "displayName": "Darlene Nazareth",
      "photoUrl": "https://lh3.googleusercontent.com/a-/AOh14Gj87u9mtP63hASzhUTgLZ96d7ESrUNQCq8pA-0Jvw=s64",
      "userId": "18299010163226169477"
     },
     "user_tz": -330
    },
    "id": "JfZRBtewLlx0",
    "outputId": "fd5856e2-c40c-43a9-b9dd-9ecb9f781cab"
   },
   "outputs": [
    {
     "name": "stdout",
     "output_type": "stream",
     "text": [
      "(1, 100, 100, 3)\n",
      "0.9999989\n",
      "[2]\n",
      "scissors\n"
     ]
    }
   ],
   "source": [
    "x=cv2.imread('Dataset/scissors/1VRzspyXpQ6A2rKy.png')\n",
    "x=cv2.resize(x,(100,100))\n",
    "x = x / 255\n",
    "img_arr=np.array(x)\n",
    "img = np.array([img_arr])\n",
    "print(img.shape)\n",
    "y=model5.predict(img)\n",
    "print(np.max(y))\n",
    "print(np.argmax(y,axis=1))\n",
    "print(os.listdir('Dataset')[np.argmax(y,axis=1)[0]])\n"
   ]
  },
  {
   "cell_type": "code",
   "execution_count": 475,
   "metadata": {
    "colab": {
     "base_uri": "https://localhost:8080/",
     "height": 87
    },
    "colab_type": "code",
    "executionInfo": {
     "elapsed": 1251,
     "status": "ok",
     "timestamp": 1592598680130,
     "user": {
      "displayName": "Darlene Nazareth",
      "photoUrl": "https://lh3.googleusercontent.com/a-/AOh14Gj87u9mtP63hASzhUTgLZ96d7ESrUNQCq8pA-0Jvw=s64",
      "userId": "18299010163226169477"
     },
     "user_tz": -330
    },
    "id": "cAd-SEIWI-xz",
    "outputId": "039b866b-defd-4427-f0ce-03f19ddf9120"
   },
   "outputs": [
    {
     "name": "stdout",
     "output_type": "stream",
     "text": [
      "(1, 100, 100, 3)\n",
      "0.92297393\n",
      "[2]\n",
      "scissors\n"
     ]
    }
   ],
   "source": [
    "# after error\n",
    "x=cv2.imread('Dataset/scissors/1VRzspyXpQ6A2rKy.png')\n",
    "x=cv2.resize(x,(100,100))\n",
    "x = x / 255\n",
    "img_arr=np.array(x)\n",
    "img = np.array([img_arr])\n",
    "print(img.shape)\n",
    "y=model5.predict(img)\n",
    "print(np.max(y))\n",
    "print(np.argmax(y,axis=1))\n",
    "print(os.listdir('Dataset')[np.argmax(y,axis=1)[0]])"
   ]
  },
  {
   "cell_type": "code",
   "execution_count": 378,
   "metadata": {
    "colab": {
     "base_uri": "https://localhost:8080/",
     "height": 191
    },
    "colab_type": "code",
    "executionInfo": {
     "elapsed": 1204,
     "status": "ok",
     "timestamp": 1592595320828,
     "user": {
      "displayName": "Darlene Nazareth",
      "photoUrl": "https://lh3.googleusercontent.com/a-/AOh14Gj87u9mtP63hASzhUTgLZ96d7ESrUNQCq8pA-0Jvw=s64",
      "userId": "18299010163226169477"
     },
     "user_tz": -330
    },
    "id": "B77wt-jTB5mc",
    "outputId": "3f39502b-d71a-4ac9-96a1-7a03e0a66e60"
   },
   "outputs": [
    {
     "name": "stdout",
     "output_type": "stream",
     "text": [
      "2\n",
      "2\n",
      "2\n",
      "2\n",
      "2\n",
      "2\n",
      "2\n",
      "2\n",
      "2\n",
      "2\n"
     ]
    }
   ],
   "source": [
    "all_imgs = []\n",
    "imgs = os.listdir('Dataset/scissors')\n",
    "imgs = imgs[10:20]\n",
    "for img in imgs:\n",
    "  x = cv2.imread('Dataset/scissors/' + img, 3)\n",
    "  x=cv2.resize(x,(100,100))\n",
    "  x = np.array(x) / 255\n",
    "  all_imgs.append(x)\n",
    "all_imgs = np.array(all_imgs)\n",
    "\n",
    "\n",
    "y=model5.predict(x=all_imgs)\n",
    "for e in y:\n",
    "  print(np.argmax(e))"
   ]
  },
  {
   "cell_type": "code",
   "execution_count": 485,
   "metadata": {
    "colab": {
     "base_uri": "https://localhost:8080/",
     "height": 104
    },
    "colab_type": "code",
    "executionInfo": {
     "elapsed": 2853,
     "status": "ok",
     "timestamp": 1592598765156,
     "user": {
      "displayName": "Darlene Nazareth",
      "photoUrl": "https://lh3.googleusercontent.com/a-/AOh14Gj87u9mtP63hASzhUTgLZ96d7ESrUNQCq8pA-0Jvw=s64",
      "userId": "18299010163226169477"
     },
     "user_tz": -330
    },
    "id": "u95hTh3S_2GQ",
    "outputId": "2073de02-43fc-4424-c1b5-a26ff7a9fdc2"
   },
   "outputs": [
    {
     "name": "stdout",
     "output_type": "stream",
     "text": [
      "(1, 100, 100, 3)\n",
      "0.5202414\n",
      "[0]\n",
      "paper\n"
     ]
    },
    {
     "data": {
      "text/plain": [
       "array([[5.2024138e-01, 4.7975859e-01, 1.2077298e-08]], dtype=float32)"
      ]
     },
     "execution_count": 485,
     "metadata": {
      "tags": []
     },
     "output_type": "execute_result"
    }
   ],
   "source": [
    "#try\n",
    "x=cv2.imread('/content/images (1).jpg')\n",
    "x=cv2.resize(x,(100,100))\n",
    "x = x / 255\n",
    "img_arr=np.array(x)\n",
    "img = np.array([img_arr])\n",
    "print(img.shape)\n",
    "y=model5.predict(img)\n",
    "print(np.max(y))\n",
    "print(np.argmax(y,axis=1))\n",
    "print(os.listdir('Dataset')[np.argmax(y,axis=1)[0]])\n",
    "y"
   ]
  },
  {
   "cell_type": "code",
   "execution_count": 335,
   "metadata": {
    "colab": {
     "base_uri": "https://localhost:8080/",
     "height": 104
    },
    "colab_type": "code",
    "executionInfo": {
     "elapsed": 1235,
     "status": "ok",
     "timestamp": 1592591912455,
     "user": {
      "displayName": "Darlene Nazareth",
      "photoUrl": "https://lh3.googleusercontent.com/a-/AOh14Gj87u9mtP63hASzhUTgLZ96d7ESrUNQCq8pA-0Jvw=s64",
      "userId": "18299010163226169477"
     },
     "user_tz": -330
    },
    "id": "to6r_dEFLx-H",
    "outputId": "4fd84255-7945-41be-9b2a-ef36570c5843"
   },
   "outputs": [
    {
     "name": "stdout",
     "output_type": "stream",
     "text": [
      "(1, 100, 100, 3)\n",
      "0.926993\n",
      "[0]\n",
      "paper\n"
     ]
    },
    {
     "data": {
      "text/plain": [
       "array([[0.926993  , 0.00245418, 0.07055277]], dtype=float32)"
      ]
     },
     "execution_count": 335,
     "metadata": {
      "tags": []
     },
     "output_type": "execute_result"
    }
   ],
   "source": [
    "x=cv2.imread('Dataset/paper/4484TuJc6AH7pDOG.png')\n",
    "x=cv2.resize(x,(100,100))\n",
    "x = x / 255\n",
    "img_arr=np.array(x)\n",
    "img = np.array([img_arr])\n",
    "print(img.shape)\n",
    "y=model5.predict(img)\n",
    "print(np.max(y))\n",
    "print(np.argmax(y,axis=1))\n",
    "print(os.listdir('Dataset')[np.argmax(y,axis=1)[0]])\n",
    "y\n"
   ]
  },
  {
   "cell_type": "code",
   "execution_count": 480,
   "metadata": {
    "colab": {
     "base_uri": "https://localhost:8080/",
     "height": 104
    },
    "colab_type": "code",
    "executionInfo": {
     "elapsed": 2138,
     "status": "ok",
     "timestamp": 1592598712022,
     "user": {
      "displayName": "Darlene Nazareth",
      "photoUrl": "https://lh3.googleusercontent.com/a-/AOh14Gj87u9mtP63hASzhUTgLZ96d7ESrUNQCq8pA-0Jvw=s64",
      "userId": "18299010163226169477"
     },
     "user_tz": -330
    },
    "id": "ostS6EFMJJH0",
    "outputId": "f16e5f57-6909-4ff7-9ae4-da816bca82d5"
   },
   "outputs": [
    {
     "name": "stdout",
     "output_type": "stream",
     "text": [
      "(1, 100, 100, 3)\n",
      "0.9464415\n",
      "[0]\n",
      "paper\n"
     ]
    },
    {
     "data": {
      "text/plain": [
       "array([[0.9464415 , 0.0359696 , 0.01758886]], dtype=float32)"
      ]
     },
     "execution_count": 480,
     "metadata": {
      "tags": []
     },
     "output_type": "execute_result"
    }
   ],
   "source": [
    "# after error\n",
    "x=cv2.imread('Dataset/paper/4484TuJc6AH7pDOG.png')\n",
    "x=cv2.resize(x,(100,100))\n",
    "x = x / 255\n",
    "img_arr=np.array(x)\n",
    "img = np.array([img_arr])\n",
    "print(img.shape)\n",
    "y=model5.predict(img)\n",
    "print(np.max(y))\n",
    "print(np.argmax(y,axis=1))\n",
    "print(os.listdir('Dataset')[np.argmax(y,axis=1)[0]])\n",
    "y"
   ]
  },
  {
   "cell_type": "code",
   "execution_count": 345,
   "metadata": {
    "colab": {
     "base_uri": "https://localhost:8080/",
     "height": 191
    },
    "colab_type": "code",
    "executionInfo": {
     "elapsed": 1216,
     "status": "ok",
     "timestamp": 1592593457410,
     "user": {
      "displayName": "Darlene Nazareth",
      "photoUrl": "https://lh3.googleusercontent.com/a-/AOh14Gj87u9mtP63hASzhUTgLZ96d7ESrUNQCq8pA-0Jvw=s64",
      "userId": "18299010163226169477"
     },
     "user_tz": -330
    },
    "id": "KtwRGmCXK0Yk",
    "outputId": "ea5fc994-b912-4538-d3ef-63b858650b9a"
   },
   "outputs": [
    {
     "name": "stdout",
     "output_type": "stream",
     "text": [
      "0\n",
      "2\n",
      "0\n",
      "0\n",
      "0\n",
      "0\n",
      "0\n",
      "0\n",
      "0\n",
      "0\n"
     ]
    }
   ],
   "source": [
    "all_imgs = []\n",
    "imgs = os.listdir('Dataset/paper')\n",
    "imgs = imgs[:10]\n",
    "for img in imgs:\n",
    "  x = cv2.imread('Dataset/paper/' + img, 3)\n",
    "  x=cv2.resize(x,(100,100))\n",
    "  x = np.array(x) / 255\n",
    "  all_imgs.append(x)\n",
    "all_imgs = np.array(all_imgs)\n",
    "\n",
    "\n",
    "y=model5.predict(x=all_imgs)\n",
    "for e in y:\n",
    "  print(np.argmax(e))"
   ]
  },
  {
   "cell_type": "code",
   "execution_count": 481,
   "metadata": {
    "colab": {
     "base_uri": "https://localhost:8080/",
     "height": 191
    },
    "colab_type": "code",
    "executionInfo": {
     "elapsed": 2150,
     "status": "ok",
     "timestamp": 1592598720796,
     "user": {
      "displayName": "Darlene Nazareth",
      "photoUrl": "https://lh3.googleusercontent.com/a-/AOh14Gj87u9mtP63hASzhUTgLZ96d7ESrUNQCq8pA-0Jvw=s64",
      "userId": "18299010163226169477"
     },
     "user_tz": -330
    },
    "id": "vGzRRrx_JT7l",
    "outputId": "60784407-165c-41f2-d042-05af38c619b7"
   },
   "outputs": [
    {
     "name": "stdout",
     "output_type": "stream",
     "text": [
      "0\n",
      "1\n",
      "0\n",
      "0\n",
      "0\n",
      "0\n",
      "0\n",
      "0\n",
      "0\n",
      "0\n"
     ]
    }
   ],
   "source": [
    "#err\n",
    "all_imgs = []\n",
    "imgs = os.listdir('Dataset/paper')\n",
    "imgs = imgs[:10]\n",
    "for img in imgs:\n",
    "  x = cv2.imread('Dataset/paper/' + img, 3)\n",
    "  x=cv2.resize(x,(100,100))\n",
    "  x = np.array(x) / 255\n",
    "  all_imgs.append(x)\n",
    "all_imgs = np.array(all_imgs)\n",
    "\n",
    "\n",
    "y=model5.predict(x=all_imgs)\n",
    "for e in y:\n",
    "  print(np.argmax(e))"
   ]
  },
  {
   "cell_type": "code",
   "execution_count": 366,
   "metadata": {
    "colab": {
     "base_uri": "https://localhost:8080/",
     "height": 191
    },
    "colab_type": "code",
    "executionInfo": {
     "elapsed": 1217,
     "status": "ok",
     "timestamp": 1592594713192,
     "user": {
      "displayName": "Darlene Nazareth",
      "photoUrl": "https://lh3.googleusercontent.com/a-/AOh14Gj87u9mtP63hASzhUTgLZ96d7ESrUNQCq8pA-0Jvw=s64",
      "userId": "18299010163226169477"
     },
     "user_tz": -330
    },
    "id": "eV3wfPT_972f",
    "outputId": "d8c5b2f2-ab4b-41ba-ac2c-ee7aa87911e3"
   },
   "outputs": [
    {
     "name": "stdout",
     "output_type": "stream",
     "text": [
      "2\n",
      "2\n",
      "2\n",
      "2\n",
      "2\n",
      "2\n",
      "2\n",
      "2\n",
      "2\n",
      "2\n"
     ]
    }
   ],
   "source": [
    "all_imgs = []\n",
    "imgs = os.listdir('Dataset/scissors')\n",
    "imgs = imgs[50:60]\n",
    "for img in imgs:\n",
    "  x = cv2.imread('Dataset/scissors/' + img, 3)\n",
    "  x=cv2.resize(x,(100,100))\n",
    "  x = np.array(x) / 255\n",
    "  all_imgs.append(x)\n",
    "all_imgs = np.array(all_imgs)\n",
    "\n",
    "\n",
    "y=model5.predict(x=all_imgs)\n",
    "for e in y:\n",
    "  print(np.argmax(e))"
   ]
  },
  {
   "cell_type": "code",
   "execution_count": 482,
   "metadata": {
    "colab": {
     "base_uri": "https://localhost:8080/",
     "height": 191
    },
    "colab_type": "code",
    "executionInfo": {
     "elapsed": 2150,
     "status": "ok",
     "timestamp": 1592598727238,
     "user": {
      "displayName": "Darlene Nazareth",
      "photoUrl": "https://lh3.googleusercontent.com/a-/AOh14Gj87u9mtP63hASzhUTgLZ96d7ESrUNQCq8pA-0Jvw=s64",
      "userId": "18299010163226169477"
     },
     "user_tz": -330
    },
    "id": "4tORaExvKVN_",
    "outputId": "d4d09ffb-ab6f-4cc8-d493-5a085ccd294b"
   },
   "outputs": [
    {
     "name": "stdout",
     "output_type": "stream",
     "text": [
      "2\n",
      "2\n",
      "2\n",
      "2\n",
      "2\n",
      "2\n",
      "2\n",
      "2\n",
      "2\n",
      "2\n"
     ]
    }
   ],
   "source": [
    "#err\n",
    "all_imgs = []\n",
    "imgs = os.listdir('Dataset/scissors')\n",
    "imgs = imgs[50:60]\n",
    "for img in imgs:\n",
    "  x = cv2.imread('Dataset/scissors/' + img, 3)\n",
    "  x=cv2.resize(x,(100,100))\n",
    "  x = np.array(x) / 255\n",
    "  all_imgs.append(x)\n",
    "all_imgs = np.array(all_imgs)\n",
    "\n",
    "\n",
    "y=model5.predict(x=all_imgs)\n",
    "for e in y:\n",
    "  print(np.argmax(e))"
   ]
  },
  {
   "cell_type": "code",
   "execution_count": 337,
   "metadata": {
    "colab": {
     "base_uri": "https://localhost:8080/",
     "height": 191
    },
    "colab_type": "code",
    "executionInfo": {
     "elapsed": 1551,
     "status": "ok",
     "timestamp": 1592591918970,
     "user": {
      "displayName": "Darlene Nazareth",
      "photoUrl": "https://lh3.googleusercontent.com/a-/AOh14Gj87u9mtP63hASzhUTgLZ96d7ESrUNQCq8pA-0Jvw=s64",
      "userId": "18299010163226169477"
     },
     "user_tz": -330
    },
    "id": "Gms4zKmEMXZ1",
    "outputId": "4e135a95-a3ec-4f62-aac8-02bdd68ffa6c"
   },
   "outputs": [
    {
     "name": "stdout",
     "output_type": "stream",
     "text": [
      "1\n",
      "1\n",
      "1\n",
      "1\n",
      "1\n",
      "1\n",
      "1\n",
      "1\n",
      "1\n",
      "1\n"
     ]
    }
   ],
   "source": [
    "all_imgs = []\n",
    "imgs = os.listdir('Dataset/rock')\n",
    "imgs = imgs[:10]\n",
    "for img in imgs:\n",
    "  x = cv2.imread('Dataset/rock/' + img, 3)\n",
    "  x=cv2.resize(x,(100,100))\n",
    "  x = np.array(x) / 255\n",
    "  all_imgs.append(x)\n",
    "all_imgs = np.array(all_imgs)\n",
    "\n",
    "y=model5.predict(x=all_imgs)\n",
    "for e in y:\n",
    "  print(np.argmax(e))"
   ]
  },
  {
   "cell_type": "code",
   "execution_count": 483,
   "metadata": {
    "colab": {
     "base_uri": "https://localhost:8080/",
     "height": 191
    },
    "colab_type": "code",
    "executionInfo": {
     "elapsed": 2588,
     "status": "ok",
     "timestamp": 1592598736371,
     "user": {
      "displayName": "Darlene Nazareth",
      "photoUrl": "https://lh3.googleusercontent.com/a-/AOh14Gj87u9mtP63hASzhUTgLZ96d7ESrUNQCq8pA-0Jvw=s64",
      "userId": "18299010163226169477"
     },
     "user_tz": -330
    },
    "id": "2QAPGOAOKan3",
    "outputId": "eca7c5a7-125f-4a8d-f4cb-8299a74533aa"
   },
   "outputs": [
    {
     "name": "stdout",
     "output_type": "stream",
     "text": [
      "1\n",
      "1\n",
      "1\n",
      "1\n",
      "1\n",
      "1\n",
      "1\n",
      "1\n",
      "1\n",
      "1\n"
     ]
    }
   ],
   "source": [
    "#err\n",
    "all_imgs = []\n",
    "imgs = os.listdir('Dataset/rock')\n",
    "imgs = imgs[:10]\n",
    "for img in imgs:\n",
    "  x = cv2.imread('Dataset/rock/' + img, 3)\n",
    "  x=cv2.resize(x,(100,100))\n",
    "  x = np.array(x) / 255\n",
    "  all_imgs.append(x)\n",
    "all_imgs = np.array(all_imgs)\n",
    "\n",
    "y=model5.predict(x=all_imgs)\n",
    "for e in y:\n",
    "  print(np.argmax(e))"
   ]
  },
  {
   "cell_type": "code",
   "execution_count": 208,
   "metadata": {
    "colab": {},
    "colab_type": "code",
    "executionInfo": {
     "elapsed": 4246,
     "status": "ok",
     "timestamp": 1592584985588,
     "user": {
      "displayName": "Darlene Nazareth",
      "photoUrl": "https://lh3.googleusercontent.com/a-/AOh14Gj87u9mtP63hASzhUTgLZ96d7ESrUNQCq8pA-0Jvw=s64",
      "userId": "18299010163226169477"
     },
     "user_tz": -330
    },
    "id": "ANburWHRMdIN"
   },
   "outputs": [],
   "source": [
    "!mkdir final_tflite"
   ]
  },
  {
   "cell_type": "code",
   "execution_count": 343,
   "metadata": {
    "colab": {},
    "colab_type": "code",
    "executionInfo": {
     "elapsed": 4203,
     "status": "ok",
     "timestamp": 1592593050498,
     "user": {
      "displayName": "Darlene Nazareth",
      "photoUrl": "https://lh3.googleusercontent.com/a-/AOh14Gj87u9mtP63hASzhUTgLZ96d7ESrUNQCq8pA-0Jvw=s64",
      "userId": "18299010163226169477"
     },
     "user_tz": -330
    },
    "id": "QiuyDGTk8FpD"
   },
   "outputs": [],
   "source": [
    "new_model= tf.keras.models.load_model(filepath=\"final_custom_model6.h5\")\n",
    "new_model.load_weights('final_custom_weights6.h5')"
   ]
  },
  {
   "cell_type": "code",
   "execution_count": 344,
   "metadata": {
    "colab": {
     "base_uri": "https://localhost:8080/",
     "height": 35
    },
    "colab_type": "code",
    "executionInfo": {
     "elapsed": 19576,
     "status": "ok",
     "timestamp": 1592593079936,
     "user": {
      "displayName": "Darlene Nazareth",
      "photoUrl": "https://lh3.googleusercontent.com/a-/AOh14Gj87u9mtP63hASzhUTgLZ96d7ESrUNQCq8pA-0Jvw=s64",
      "userId": "18299010163226169477"
     },
     "user_tz": -330
    },
    "id": "NI8j19i87KyT",
    "outputId": "21bdc123-0eb4-4cb2-cbea-2cd78b9eada9"
   },
   "outputs": [
    {
     "data": {
      "text/plain": [
       "38108588"
      ]
     },
     "execution_count": 344,
     "metadata": {
      "tags": []
     },
     "output_type": "execute_result"
    }
   ],
   "source": [
    "converter = tf.lite.TFLiteConverter.from_keras_model(new_model)\n",
    "tflite_model = converter.convert()\n",
    "open(\"converted_model.tflite\", \"wb\").write(tflite_model)"
   ]
  },
  {
   "cell_type": "code",
   "execution_count": 348,
   "metadata": {
    "colab": {
     "base_uri": "https://localhost:8080/",
     "height": 263
    },
    "colab_type": "code",
    "executionInfo": {
     "elapsed": 10231,
     "status": "ok",
     "timestamp": 1592593744685,
     "user": {
      "displayName": "Darlene Nazareth",
      "photoUrl": "https://lh3.googleusercontent.com/a-/AOh14Gj87u9mtP63hASzhUTgLZ96d7ESrUNQCq8pA-0Jvw=s64",
      "userId": "18299010163226169477"
     },
     "user_tz": -330
    },
    "id": "fiKqEbxL71vq",
    "outputId": "344063e2-858e-4605-adb3-272c4e3de649"
   },
   "outputs": [
    {
     "name": "stdout",
     "output_type": "stream",
     "text": [
      "Collecting icrawler\n",
      "  Downloading https://files.pythonhosted.org/packages/89/de/71d154b1fe181ee1a4afae5d10451856ef4689b3fd72d93cc55f31d2886a/icrawler-0.6.3-py2.py3-none-any.whl\n",
      "Requirement already satisfied: lxml in /usr/local/lib/python3.6/dist-packages (from icrawler) (4.2.6)\n",
      "Requirement already satisfied: beautifulsoup4>=4.4.1 in /usr/local/lib/python3.6/dist-packages (from icrawler) (4.6.3)\n",
      "Requirement already satisfied: Pillow in /usr/local/lib/python3.6/dist-packages (from icrawler) (7.0.0)\n",
      "Requirement already satisfied: requests>=2.9.1 in /usr/local/lib/python3.6/dist-packages (from icrawler) (2.23.0)\n",
      "Requirement already satisfied: six>=1.10.0 in /usr/local/lib/python3.6/dist-packages (from icrawler) (1.12.0)\n",
      "Requirement already satisfied: certifi>=2017.4.17 in /usr/local/lib/python3.6/dist-packages (from requests>=2.9.1->icrawler) (2020.4.5.2)\n",
      "Requirement already satisfied: idna<3,>=2.5 in /usr/local/lib/python3.6/dist-packages (from requests>=2.9.1->icrawler) (2.9)\n",
      "Requirement already satisfied: chardet<4,>=3.0.2 in /usr/local/lib/python3.6/dist-packages (from requests>=2.9.1->icrawler) (3.0.4)\n",
      "Requirement already satisfied: urllib3!=1.25.0,!=1.25.1,<1.26,>=1.21.1 in /usr/local/lib/python3.6/dist-packages (from requests>=2.9.1->icrawler) (1.24.3)\n",
      "Installing collected packages: icrawler\n",
      "Successfully installed icrawler-0.6.3\n"
     ]
    }
   ],
   "source": [
    "!pip install icrawler"
   ]
  },
  {
   "cell_type": "code",
   "execution_count": null,
   "metadata": {
    "colab": {},
    "colab_type": "code",
    "id": "8DpI4P34-9pm"
   },
   "outputs": [],
   "source": [
    "from icrawler.builtin import GoogleImageCrawler\n",
    "\n",
    "google_crawler = GoogleImageCrawler(storage={'root_dir': 'your_image_dir'})\n",
    "google_crawler.crawl(keyword='', max_num=1)"
   ]
  }
 ],
 "metadata": {
  "accelerator": "GPU",
  "colab": {
   "authorship_tag": "ABX9TyMnh0IEezg97zZOmQo1pVnt",
   "collapsed_sections": [],
   "name": "RockPaperScissor.ipynb",
   "provenance": []
  },
  "kernelspec": {
   "display_name": "Python 3",
   "language": "python",
   "name": "python3"
  },
  "language_info": {
   "codemirror_mode": {
    "name": "ipython",
    "version": 3
   },
   "file_extension": ".py",
   "mimetype": "text/x-python",
   "name": "python",
   "nbconvert_exporter": "python",
   "pygments_lexer": "ipython3",
   "version": "3.7.5"
  }
 },
 "nbformat": 4,
 "nbformat_minor": 1
}
