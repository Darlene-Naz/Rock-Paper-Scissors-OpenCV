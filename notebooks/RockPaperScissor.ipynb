{
  "nbformat": 4,
  "nbformat_minor": 0,
  "metadata": {
    "accelerator": "GPU",
    "colab": {
      "name": "RockPaperScissor.ipynb",
      "provenance": [],
      "collapsed_sections": []
    },
    "kernelspec": {
      "display_name": "Python 3",
      "language": "python",
      "name": "python3"
    },
    "language_info": {
      "codemirror_mode": {
        "name": "ipython",
        "version": 3
      },
      "file_extension": ".py",
      "mimetype": "text/x-python",
      "name": "python",
      "nbconvert_exporter": "python",
      "pygments_lexer": "ipython3",
      "version": "3.7.5"
    }
  },
  "cells": [
    {
      "cell_type": "code",
      "metadata": {
        "colab_type": "code",
        "id": "dO_JoikOhLCv",
        "colab": {
          "base_uri": "https://localhost:8080/",
          "height": 124
        },
        "outputId": "6da4510e-8fcf-4934-81b8-8474fa5157ed"
      },
      "source": [
        "from google.colab import drive\n",
        "drive.mount('/content/drive')"
      ],
      "execution_count": null,
      "outputs": [
        {
          "output_type": "stream",
          "text": [
            "Go to this URL in a browser: https://accounts.google.com/o/oauth2/auth?client_id=947318989803-6bn6qk8qdgf4n4g3pfee6491hc0brc4i.apps.googleusercontent.com&redirect_uri=urn%3aietf%3awg%3aoauth%3a2.0%3aoob&response_type=code&scope=email%20https%3a%2f%2fwww.googleapis.com%2fauth%2fdocs.test%20https%3a%2f%2fwww.googleapis.com%2fauth%2fdrive%20https%3a%2f%2fwww.googleapis.com%2fauth%2fdrive.photos.readonly%20https%3a%2f%2fwww.googleapis.com%2fauth%2fpeopleapi.readonly\n",
            "\n",
            "Enter your authorization code:\n",
            "··········\n",
            "Mounted at /content/drive\n"
          ],
          "name": "stdout"
        }
      ]
    },
    {
      "cell_type": "code",
      "metadata": {
        "colab_type": "code",
        "id": "No1YdfCKhYJm",
        "colab": {
          "base_uri": "https://localhost:8080/",
          "height": 35
        },
        "outputId": "7a5cfd4b-3daf-48d3-dddb-92b959bdee20"
      },
      "source": [
        "%cd drive/'My Drive'/'Colab Notebooks'/Rock-Paper-Scissor"
      ],
      "execution_count": null,
      "outputs": [
        {
          "output_type": "stream",
          "text": [
            "/content/drive/My Drive/Colab Notebooks/Rock-Paper-Scissor\n"
          ],
          "name": "stdout"
        }
      ]
    },
    {
      "cell_type": "code",
      "metadata": {
        "colab_type": "code",
        "id": "TDZnl-xKijWS",
        "colab": {}
      },
      "source": [
        "#!unzip rock-paper-scissor.zip"
      ],
      "execution_count": null,
      "outputs": []
    },
    {
      "cell_type": "code",
      "metadata": {
        "colab_type": "code",
        "id": "RRpBg13Inqgv",
        "colab": {}
      },
      "source": [
        "!ls"
      ],
      "execution_count": null,
      "outputs": []
    },
    {
      "cell_type": "code",
      "metadata": {
        "colab_type": "code",
        "id": "bwHg8UUtiozQ",
        "colab": {
          "base_uri": "https://localhost:8080/",
          "height": 89
        },
        "outputId": "f88efcfa-774e-4ab1-e3e6-a69650b5ff6a"
      },
      "source": [
        "import keras as k\n",
        "from keras import layers\n",
        "from keras.layers import Input, Dense, Activation, ZeroPadding2D, BatchNormalization, Flatten, Conv2D , LeakyReLU\n",
        "from keras.layers import AveragePooling2D, MaxPooling2D, Dropout, GlobalMaxPooling2D, GlobalAveragePooling2D\n",
        "from keras.optimizers import RMSprop,SGD,Adam\n",
        "from keras.models import Model\n",
        "from keras.callbacks import EarlyStopping, ModelCheckpoint\n",
        "import keras.backend as K\n",
        "from tensorflow.keras.models import load_model\n",
        "import tensorflow as tf\n",
        "import matplotlib.pyplot as plt\n",
        "import pandas as pd\n",
        "import numpy as np\n",
        "import seaborn as sns\n",
        "import cv2\n",
        "%matplotlib inline"
      ],
      "execution_count": null,
      "outputs": [
        {
          "output_type": "stream",
          "text": [
            "Using TensorFlow backend.\n",
            "/usr/local/lib/python3.6/dist-packages/statsmodels/tools/_testing.py:19: FutureWarning: pandas.util.testing is deprecated. Use the functions in the public API at pandas.testing instead.\n",
            "  import pandas.util.testing as tm\n"
          ],
          "name": "stderr"
        }
      ]
    },
    {
      "cell_type": "code",
      "metadata": {
        "colab_type": "code",
        "id": "l-F2mRXTwodm",
        "colab": {}
      },
      "source": [
        "img_height = 100\n",
        "img_width = 100\n",
        "batch_size = 16"
      ],
      "execution_count": null,
      "outputs": []
    },
    {
      "cell_type": "code",
      "metadata": {
        "colab_type": "code",
        "id": "zkdOKHotlyf4",
        "colab": {
          "base_uri": "https://localhost:8080/",
          "height": 52
        },
        "outputId": "66412299-3145-40cb-e977-24b862a9cdfd"
      },
      "source": [
        "data_image_gen = k.preprocessing.image.ImageDataGenerator(\n",
        "    rescale=1./255,\n",
        "    rotation_range=0.1,\n",
        "    width_shift_range=0.1,\n",
        "    height_shift_range=0.1,\n",
        "    brightness_range=[0.5, 1.5],\n",
        "    channel_shift_range=0.05,\n",
        "    shear_range=0.1,\n",
        "    zoom_range=0.1,\n",
        "    horizontal_flip=True,\n",
        "    vertical_flip=True,\n",
        "    validation_split=0.2\n",
        ")\n",
        "\n",
        "train_data_generator = data_image_gen.flow_from_directory(\n",
        "    'Dataset',\n",
        "    subset='training',\n",
        "    target_size=(img_height, img_width),\n",
        "    color_mode=\"rgb\", #grayscale\n",
        "    shuffle=True,\n",
        "    batch_size=batch_size,\n",
        "    class_mode='categorical',\n",
        "    seed=42\n",
        ")\n",
        "\n",
        "validation_data_generator = data_image_gen.flow_from_directory(\n",
        "    'Dataset',\n",
        "    subset='validation',\n",
        "    target_size=(img_height, img_width),\n",
        "    color_mode=\"rgb\", #grayscale\n",
        "    shuffle=True,\n",
        "    batch_size=batch_size,\n",
        "    class_mode='categorical',\n",
        "    seed=42\n",
        ")"
      ],
      "execution_count": null,
      "outputs": [
        {
          "output_type": "stream",
          "text": [
            "Found 1980 images belonging to 3 classes.\n",
            "Found 494 images belonging to 3 classes.\n"
          ],
          "name": "stdout"
        }
      ]
    },
    {
      "cell_type": "code",
      "metadata": {
        "colab_type": "code",
        "id": "loZmiG0FxBE8",
        "colab": {
          "base_uri": "https://localhost:8080/",
          "height": 104
        },
        "outputId": "e20132e9-8cf8-4f4f-d8d6-1027c48ec82e"
      },
      "source": [
        "unique, count = np.unique(train_data_generator.classes,return_counts=True)\n",
        "print('train_dataset : samples per class')\n",
        "print(dict(zip(train_data_generator.class_indices,count)))\n",
        "\n",
        "unique, count = np.unique(validation_data_generator.classes,return_counts=True)\n",
        "print('\\nvalidation_dataset : samples per class')\n",
        "dict(zip(validation_data_generator.class_indices,count))"
      ],
      "execution_count": null,
      "outputs": [
        {
          "output_type": "stream",
          "text": [
            "train_dataset : samples per class\n",
            "{'paper': 680, 'rock': 648, 'scissors': 652}\n",
            "\n",
            "validation_dataset : samples per class\n"
          ],
          "name": "stdout"
        },
        {
          "output_type": "execute_result",
          "data": {
            "text/plain": [
              "{'paper': 169, 'rock': 162, 'scissors': 163}"
            ]
          },
          "metadata": {
            "tags": []
          },
          "execution_count": 22
        }
      ]
    },
    {
      "cell_type": "code",
      "metadata": {
        "colab_type": "code",
        "id": "Mul8dILmgCkw",
        "colab": {}
      },
      "source": [
        "def showImges(img_arr):\n",
        "  fig, axes = plt.subplots(nrows=2,ncols=3,figsize=(5,5))\n",
        "  axes=axes.flatten()\n",
        "  for img, ax in zip( img_arr, axes):\n",
        "          ax.imshow(img)\n",
        "          ax.axis('off')\n",
        "  plt.tight_layout()\n",
        "  plt.show()"
      ],
      "execution_count": null,
      "outputs": []
    },
    {
      "cell_type": "code",
      "metadata": {
        "colab_type": "code",
        "id": "FZNrUXw_i1Lz",
        "colab": {
          "base_uri": "https://localhost:8080/",
          "height": 290
        },
        "outputId": "a871dff0-d4b7-4031-9738-f9a4d075661b"
      },
      "source": [
        "sample_training_imgs,_=next(train_data_generator)\n",
        "showImges(sample_training_imgs[:6])"
      ],
      "execution_count": null,
      "outputs": [
        {
          "output_type": "display_data",
          "data": {
            "image/png": "[encoded data removed]",
            "text/plain": [
              "<Figure size 360x360 with 6 Axes>"
            ]
          },
          "metadata": {
            "tags": []
          }
        }
      ]
    },
    {
      "cell_type": "code",
      "metadata": {
        "colab_type": "code",
        "id": "GDX3e_a_kwQM",
        "colab": {}
      },
      "source": [
        "#custom model\n",
        "x_input=Input((img_width,img_height,3))\n",
        "\n",
        "x = Conv2D(filters=32,kernel_size=(3,3),strides=(1,1),padding='same',kernel_regularizer=k.regularizers.l2(0.0005),name='conv2d_1')(x_input)\n",
        "x = BatchNormalization(epsilon=0.001, name='bnorm_1',axis=3)(x)\n",
        "x = Activation('relu',name='acti_conv2d_1')(x)\n",
        "\n",
        "\n",
        "x = MaxPooling2D((2, 2), name='max_pool')(x)\n",
        "\n",
        "x = Conv2D(filters=64,kernel_size=(3,3),strides=(1,1),padding='valid',kernel_regularizer=k.regularizers.l2(1e-4),name='conv2d_2')(x)\n",
        "x = BatchNormalization(name='bnorm_2',axis=3)(x)\n",
        "x = LeakyReLU(alpha=0.3,name='leaky_2')(x)\n",
        "\n",
        "x = Conv2D(filters=64,kernel_size=(3,3),strides=(1,1),padding='same',kernel_regularizer=k.regularizers.l2(1e-4),name='conv2d_3')(x)\n",
        "x = BatchNormalization(name='bnorm_3',axis=3)(x)\n",
        "x = LeakyReLU(alpha=0.3,name='leaky_3')(x)\n",
        "\n",
        "x = AveragePooling2D((2, 2), name='avg_pool')(x)\n",
        "\n",
        "x = Flatten()(x)\n",
        "\n",
        "x = Dense(512,kernel_regularizer=k.regularizers.l2(1e-4), name='fc_1')(x)\n",
        "x = LeakyReLU(alpha=0.3)(x)\n",
        "# x = Dense(125, kernel_regularizer=k.regularizers.l2(1e-4), activation='relu' ,name='fc_2')(x)\n",
        "x = Dense(3, kernel_regularizer=k.regularizers.l2(1e-4), activation='softmax' ,name='fc_2')(x)\n",
        "# x = Activation('softmax',name='softmax_activation')(x)\n",
        "model10 = Model(inputs = x_input, outputs = x, name='CustomModel')"
      ],
      "execution_count": null,
      "outputs": []
    },
    {
      "cell_type": "code",
      "metadata": {
        "colab_type": "code",
        "id": "CIJpzlRN3zoP",
        "colab": {
          "base_uri": "https://localhost:8080/",
          "height": 711
        },
        "outputId": "4d191852-489b-4854-f0a3-beaeca397df7"
      },
      "source": [
        "model10.summary()"
      ],
      "execution_count": null,
      "outputs": [
        {
          "output_type": "stream",
          "text": [
            "Model: \"CustomModel\"\n",
            "_________________________________________________________________\n",
            "Layer (type)                 Output Shape              Param #   \n",
            "=================================================================\n",
            "input_11 (InputLayer)        (None, 100, 100, 3)       0         \n",
            "_________________________________________________________________\n",
            "conv2d_1 (Conv2D)            (None, 100, 100, 32)      896       \n",
            "_________________________________________________________________\n",
            "bnorm_1 (BatchNormalization) (None, 100, 100, 32)      128       \n",
            "_________________________________________________________________\n",
            "acti_conv2d_1 (Activation)   (None, 100, 100, 32)      0         \n",
            "_________________________________________________________________\n",
            "max_pool (MaxPooling2D)      (None, 50, 50, 32)        0         \n",
            "_________________________________________________________________\n",
            "conv2d_2 (Conv2D)            (None, 48, 48, 64)        18496     \n",
            "_________________________________________________________________\n",
            "bnorm_2 (BatchNormalization) (None, 48, 48, 64)        256       \n",
            "_________________________________________________________________\n",
            "leaky_2 (LeakyReLU)          (None, 48, 48, 64)        0         \n",
            "_________________________________________________________________\n",
            "conv2d_3 (Conv2D)            (None, 48, 48, 128)       73856     \n",
            "_________________________________________________________________\n",
            "bnorm_3 (BatchNormalization) (None, 48, 48, 128)       512       \n",
            "_________________________________________________________________\n",
            "acti_conv2d_3 (Activation)   (None, 48, 48, 128)       0         \n",
            "_________________________________________________________________\n",
            "avg_pool (AveragePooling2D)  (None, 24, 24, 128)       0         \n",
            "_________________________________________________________________\n",
            "flatten_11 (Flatten)         (None, 73728)             0         \n",
            "_________________________________________________________________\n",
            "fc_1 (Dense)                 (None, 32)                2359328   \n",
            "_________________________________________________________________\n",
            "fc_2 (Dense)                 (None, 3)                 99        \n",
            "_________________________________________________________________\n",
            "softmax_activation (Activati (None, 3)                 0         \n",
            "=================================================================\n",
            "Total params: 2,453,571\n",
            "Trainable params: 2,453,123\n",
            "Non-trainable params: 448\n",
            "_________________________________________________________________\n"
          ],
          "name": "stdout"
        }
      ]
    },
    {
      "cell_type": "code",
      "metadata": {
        "id": "5Hk3rDWnuuWn",
        "colab_type": "code",
        "colab": {}
      },
      "source": [
        "model10.compile(loss='categorical_crossentropy',metrics=['accuracy'],\n",
        "              optimizer=SGD(learning_rate=0.01,momentum=0.9))"
      ],
      "execution_count": null,
      "outputs": []
    },
    {
      "cell_type": "code",
      "metadata": {
        "colab_type": "code",
        "id": "3zsHP5h3JvLg",
        "colab": {}
      },
      "source": [
        "model2_1.compile(loss='categorical_crossentropy',metrics=['accuracy'],\n",
        "              optimizer=RMSprop())\n",
        "\n",
        "model3.compile(loss='categorical_crossentropy',metrics=['accuracy'],\n",
        "              optimizer=RMSprop())\n",
        "\n",
        "model2.compile(loss='categorical_crossentropy',metrics=['accuracy'],\n",
        "              optimizer=RMSprop())\n",
        "\n",
        "model.compile(loss='categorical_crossentropy',metrics=['accuracy'],\n",
        "              optimizer=Adam(learning_rate=0.01))"
      ],
      "execution_count": null,
      "outputs": []
    },
    {
      "cell_type": "code",
      "metadata": {
        "id": "N2QLZrRKygof",
        "colab_type": "code",
        "colab": {
          "base_uri": "https://localhost:8080/",
          "height": 211
        },
        "outputId": "0de349c7-8c30-4b5d-a314-7dfb8cf15c74"
      },
      "source": [
        "hisory10_2 = model10.fit(\n",
        "    train_data_generator,\n",
        "    epochs=5,\n",
        "    verbose=1,\n",
        "    validation_data=validation_data_generator,\n",
        "    shuffle=True,\n",
        ")"
      ],
      "execution_count": null,
      "outputs": [
        {
          "output_type": "stream",
          "text": [
            "Epoch 1/5\n",
            "124/124 [==============================] - 19s 150ms/step - loss: 0.1933 - accuracy: 0.9783 - val_loss: 0.1315 - val_accuracy: 0.9757\n",
            "Epoch 2/5\n",
            "124/124 [==============================] - 17s 138ms/step - loss: 0.2211 - accuracy: 0.9717 - val_loss: 6.9145 - val_accuracy: 0.4231\n",
            "Epoch 3/5\n",
            "124/124 [==============================] - 17s 138ms/step - loss: 0.1931 - accuracy: 0.9788 - val_loss: 0.1289 - val_accuracy: 0.9555\n",
            "Epoch 4/5\n",
            "124/124 [==============================] - 17s 139ms/step - loss: 0.1860 - accuracy: 0.9788 - val_loss: 0.3280 - val_accuracy: 0.8178\n",
            "Epoch 5/5\n",
            "124/124 [==============================] - 17s 139ms/step - loss: 0.2167 - accuracy: 0.9712 - val_loss: 0.1407 - val_accuracy: 0.9514\n"
          ],
          "name": "stdout"
        }
      ]
    },
    {
      "cell_type": "code",
      "metadata": {
        "id": "aV__xK8luyrs",
        "colab_type": "code",
        "colab": {
          "base_uri": "https://localhost:8080/",
          "height": 1000
        },
        "outputId": "1f3ac2a5-2cda-40cb-b33b-7ae06cbe5714"
      },
      "source": [
        "hisory10 = model10.fit(\n",
        "    train_data_generator,\n",
        "    epochs=50,\n",
        "    verbose=1,\n",
        "    validation_data=validation_data_generator,\n",
        "    shuffle=True,\n",
        ")"
      ],
      "execution_count": null,
      "outputs": [
        {
          "output_type": "stream",
          "text": [
            "Epoch 1/50\n",
            "124/124 [==============================] - 68s 548ms/step - loss: 2.4048 - accuracy: 0.4030 - val_loss: 1.1112 - val_accuracy: 0.5729\n",
            "Epoch 2/50\n",
            "124/124 [==============================] - 17s 136ms/step - loss: 1.2777 - accuracy: 0.5217 - val_loss: 0.7258 - val_accuracy: 0.6781\n",
            "Epoch 3/50\n",
            "124/124 [==============================] - 18s 146ms/step - loss: 0.9917 - accuracy: 0.6444 - val_loss: 0.9222 - val_accuracy: 0.7389\n",
            "Epoch 4/50\n",
            "124/124 [==============================] - 17s 137ms/step - loss: 0.8153 - accuracy: 0.7414 - val_loss: 0.7917 - val_accuracy: 0.7692\n",
            "Epoch 5/50\n",
            "124/124 [==============================] - 17s 136ms/step - loss: 0.7375 - accuracy: 0.7596 - val_loss: 0.5486 - val_accuracy: 0.8482\n",
            "Epoch 6/50\n",
            "124/124 [==============================] - 17s 136ms/step - loss: 0.7144 - accuracy: 0.7768 - val_loss: 0.6285 - val_accuracy: 0.7571\n",
            "Epoch 7/50\n",
            "124/124 [==============================] - 17s 138ms/step - loss: 0.6485 - accuracy: 0.8025 - val_loss: 0.5423 - val_accuracy: 0.8563\n",
            "Epoch 8/50\n",
            "124/124 [==============================] - 18s 143ms/step - loss: 0.5386 - accuracy: 0.8364 - val_loss: 0.5455 - val_accuracy: 0.8583\n",
            "Epoch 9/50\n",
            "124/124 [==============================] - 18s 142ms/step - loss: 0.5663 - accuracy: 0.8318 - val_loss: 0.4544 - val_accuracy: 0.8826\n",
            "Epoch 10/50\n",
            "124/124 [==============================] - 17s 141ms/step - loss: 0.5796 - accuracy: 0.8379 - val_loss: 0.3799 - val_accuracy: 0.9049\n",
            "Epoch 11/50\n",
            "124/124 [==============================] - 18s 145ms/step - loss: 0.4738 - accuracy: 0.8732 - val_loss: 0.2950 - val_accuracy: 0.8745\n",
            "Epoch 12/50\n",
            "124/124 [==============================] - 18s 143ms/step - loss: 0.4527 - accuracy: 0.8773 - val_loss: 0.9608 - val_accuracy: 0.8968\n",
            "Epoch 13/50\n",
            "124/124 [==============================] - 18s 143ms/step - loss: 0.4613 - accuracy: 0.8793 - val_loss: 0.4121 - val_accuracy: 0.9008\n",
            "Epoch 14/50\n",
            "124/124 [==============================] - 18s 143ms/step - loss: 0.3926 - accuracy: 0.9035 - val_loss: 0.6581 - val_accuracy: 0.8887\n",
            "Epoch 15/50\n",
            "124/124 [==============================] - 18s 143ms/step - loss: 0.4225 - accuracy: 0.8995 - val_loss: 1.9972 - val_accuracy: 0.4879\n",
            "Epoch 16/50\n",
            "124/124 [==============================] - 18s 142ms/step - loss: 0.4053 - accuracy: 0.8970 - val_loss: 0.4381 - val_accuracy: 0.9069\n",
            "Epoch 17/50\n",
            "124/124 [==============================] - 17s 139ms/step - loss: 0.3749 - accuracy: 0.9096 - val_loss: 0.6272 - val_accuracy: 0.8664\n",
            "Epoch 18/50\n",
            "124/124 [==============================] - 17s 139ms/step - loss: 0.3584 - accuracy: 0.9263 - val_loss: 0.3962 - val_accuracy: 0.9453\n",
            "Epoch 19/50\n",
            "124/124 [==============================] - 17s 138ms/step - loss: 0.3382 - accuracy: 0.9253 - val_loss: 0.4919 - val_accuracy: 0.9049\n",
            "Epoch 20/50\n",
            "124/124 [==============================] - 17s 140ms/step - loss: 0.3114 - accuracy: 0.9333 - val_loss: 0.1407 - val_accuracy: 0.9312\n",
            "Epoch 21/50\n",
            "124/124 [==============================] - 18s 149ms/step - loss: 0.3368 - accuracy: 0.9227 - val_loss: 1.0466 - val_accuracy: 0.7045\n",
            "Epoch 22/50\n",
            "124/124 [==============================] - 17s 136ms/step - loss: 0.3091 - accuracy: 0.9439 - val_loss: 1.0333 - val_accuracy: 0.9211\n",
            "Epoch 23/50\n",
            "124/124 [==============================] - 17s 139ms/step - loss: 0.2976 - accuracy: 0.9419 - val_loss: 0.1852 - val_accuracy: 0.9393\n",
            "Epoch 24/50\n",
            "124/124 [==============================] - 17s 139ms/step - loss: 0.2676 - accuracy: 0.9505 - val_loss: 0.2561 - val_accuracy: 0.9372\n",
            "Epoch 25/50\n",
            "124/124 [==============================] - 17s 139ms/step - loss: 0.3262 - accuracy: 0.9333 - val_loss: 0.1861 - val_accuracy: 0.9291\n",
            "Epoch 26/50\n",
            "124/124 [==============================] - 17s 140ms/step - loss: 0.2841 - accuracy: 0.9520 - val_loss: 3.1111 - val_accuracy: 0.5283\n",
            "Epoch 27/50\n",
            "124/124 [==============================] - 17s 138ms/step - loss: 0.3072 - accuracy: 0.9389 - val_loss: 1.3111 - val_accuracy: 0.8462\n",
            "Epoch 28/50\n",
            "124/124 [==============================] - 17s 139ms/step - loss: 0.2696 - accuracy: 0.9490 - val_loss: 0.9090 - val_accuracy: 0.7591\n",
            "Epoch 29/50\n",
            "124/124 [==============================] - 17s 139ms/step - loss: 0.2702 - accuracy: 0.9556 - val_loss: 0.1346 - val_accuracy: 0.9494\n",
            "Epoch 30/50\n",
            "124/124 [==============================] - 17s 138ms/step - loss: 0.2645 - accuracy: 0.9571 - val_loss: 0.2021 - val_accuracy: 0.9636\n",
            "Epoch 31/50\n",
            "124/124 [==============================] - 17s 139ms/step - loss: 0.2389 - accuracy: 0.9616 - val_loss: 0.7020 - val_accuracy: 0.6579\n",
            "Epoch 32/50\n",
            "124/124 [==============================] - 18s 142ms/step - loss: 0.2685 - accuracy: 0.9515 - val_loss: 0.2098 - val_accuracy: 0.9170\n",
            "Epoch 33/50\n",
            "124/124 [==============================] - 18s 142ms/step - loss: 0.2668 - accuracy: 0.9510 - val_loss: 0.8204 - val_accuracy: 0.7794\n",
            "Epoch 34/50\n",
            "124/124 [==============================] - 18s 144ms/step - loss: 0.2717 - accuracy: 0.9540 - val_loss: 0.3502 - val_accuracy: 0.8117\n",
            "Epoch 35/50\n",
            "124/124 [==============================] - 18s 142ms/step - loss: 0.2423 - accuracy: 0.9621 - val_loss: 0.5114 - val_accuracy: 0.9393\n",
            "Epoch 36/50\n",
            "124/124 [==============================] - 18s 142ms/step - loss: 0.2596 - accuracy: 0.9606 - val_loss: 2.2199 - val_accuracy: 0.4453\n",
            "Epoch 37/50\n",
            "124/124 [==============================] - 17s 140ms/step - loss: 0.2628 - accuracy: 0.9505 - val_loss: 0.1288 - val_accuracy: 0.9656\n",
            "Epoch 38/50\n",
            "124/124 [==============================] - 18s 142ms/step - loss: 0.2334 - accuracy: 0.9641 - val_loss: 0.2873 - val_accuracy: 0.9474\n",
            "Epoch 39/50\n",
            "124/124 [==============================] - 18s 148ms/step - loss: 0.2512 - accuracy: 0.9606 - val_loss: 1.0154 - val_accuracy: 0.7490\n",
            "Epoch 40/50\n",
            "124/124 [==============================] - 18s 142ms/step - loss: 0.2332 - accuracy: 0.9626 - val_loss: 0.4715 - val_accuracy: 0.8583\n",
            "Epoch 41/50\n",
            "124/124 [==============================] - 18s 142ms/step - loss: 0.2178 - accuracy: 0.9677 - val_loss: 0.2901 - val_accuracy: 0.8725\n",
            "Epoch 42/50\n",
            "124/124 [==============================] - 18s 144ms/step - loss: 0.2396 - accuracy: 0.9667 - val_loss: 0.4041 - val_accuracy: 0.9636\n",
            "Epoch 43/50\n",
            "124/124 [==============================] - 17s 139ms/step - loss: 0.2439 - accuracy: 0.9586 - val_loss: 0.1476 - val_accuracy: 0.9433\n",
            "Epoch 44/50\n",
            "124/124 [==============================] - 17s 140ms/step - loss: 0.2561 - accuracy: 0.9551 - val_loss: 0.2187 - val_accuracy: 0.9555\n",
            "Epoch 45/50\n",
            "124/124 [==============================] - 17s 140ms/step - loss: 0.2165 - accuracy: 0.9727 - val_loss: 0.3658 - val_accuracy: 0.8968\n",
            "Epoch 46/50\n",
            "124/124 [==============================] - 17s 138ms/step - loss: 0.2277 - accuracy: 0.9646 - val_loss: 0.3329 - val_accuracy: 0.9190\n",
            "Epoch 47/50\n",
            "124/124 [==============================] - 17s 137ms/step - loss: 0.2118 - accuracy: 0.9712 - val_loss: 0.1522 - val_accuracy: 0.9453\n",
            "Epoch 48/50\n",
            "124/124 [==============================] - 17s 136ms/step - loss: 0.2141 - accuracy: 0.9717 - val_loss: 1.7824 - val_accuracy: 0.8806\n",
            "Epoch 49/50\n",
            "124/124 [==============================] - 17s 137ms/step - loss: 0.2030 - accuracy: 0.9727 - val_loss: 0.1597 - val_accuracy: 0.9575\n",
            "Epoch 50/50\n",
            "124/124 [==============================] - 17s 136ms/step - loss: 0.2296 - accuracy: 0.9662 - val_loss: 0.9044 - val_accuracy: 0.9534\n"
          ],
          "name": "stdout"
        }
      ]
    },
    {
      "cell_type": "code",
      "metadata": {
        "id": "RSLlGfXoA8uH",
        "colab_type": "code",
        "colab": {
          "base_uri": "https://localhost:8080/",
          "height": 1000
        },
        "outputId": "ce965e28-e642-48b6-e860-3c7162cb9275"
      },
      "source": [
        "history9=model9.fit(\n",
        "    train_data_generator,\n",
        "    epochs=50,\n",
        "    verbose=1,\n",
        "    validation_data=validation_data_generator,\n",
        "    shuffle=True,\n",
        ")"
      ],
      "execution_count": null,
      "outputs": [
        {
          "output_type": "stream",
          "text": [
            "Epoch 1/50\n",
            "117/117 [==============================] - 21s 176ms/step - loss: 1.5918 - accuracy: 0.4947 - val_loss: 1.1888 - val_accuracy: 0.5589\n",
            "Epoch 2/50\n",
            "117/117 [==============================] - 18s 158ms/step - loss: 0.9242 - accuracy: 0.6807 - val_loss: 0.5122 - val_accuracy: 0.7430\n",
            "Epoch 3/50\n",
            "117/117 [==============================] - 19s 160ms/step - loss: 0.8338 - accuracy: 0.7439 - val_loss: 1.7682 - val_accuracy: 0.7366\n",
            "Epoch 4/50\n",
            "117/117 [==============================] - 19s 164ms/step - loss: 0.7042 - accuracy: 0.8048 - val_loss: 0.3275 - val_accuracy: 0.8373\n",
            "Epoch 5/50\n",
            "117/117 [==============================] - 18s 157ms/step - loss: 0.6742 - accuracy: 0.8043 - val_loss: 0.2980 - val_accuracy: 0.8758\n",
            "Epoch 6/50\n",
            "117/117 [==============================] - 18s 157ms/step - loss: 0.5373 - accuracy: 0.8594 - val_loss: 0.4506 - val_accuracy: 0.8458\n",
            "Epoch 7/50\n",
            "117/117 [==============================] - 18s 157ms/step - loss: 0.5164 - accuracy: 0.8556 - val_loss: 0.3237 - val_accuracy: 0.8651\n",
            "Epoch 8/50\n",
            "117/117 [==============================] - 19s 160ms/step - loss: 0.4641 - accuracy: 0.8824 - val_loss: 0.1525 - val_accuracy: 0.8544\n",
            "Epoch 9/50\n",
            "117/117 [==============================] - 18s 157ms/step - loss: 0.4895 - accuracy: 0.8797 - val_loss: 0.6080 - val_accuracy: 0.8651\n",
            "Epoch 10/50\n",
            "117/117 [==============================] - 19s 158ms/step - loss: 0.4112 - accuracy: 0.8995 - val_loss: 0.1420 - val_accuracy: 0.7837\n",
            "Epoch 11/50\n",
            "117/117 [==============================] - 19s 159ms/step - loss: 0.4681 - accuracy: 0.8872 - val_loss: 0.3555 - val_accuracy: 0.8672\n",
            "Epoch 12/50\n",
            "117/117 [==============================] - 18s 157ms/step - loss: 0.3825 - accuracy: 0.9214 - val_loss: 0.4646 - val_accuracy: 0.8929\n",
            "Epoch 13/50\n",
            "117/117 [==============================] - 19s 159ms/step - loss: 0.3858 - accuracy: 0.9182 - val_loss: 0.1331 - val_accuracy: 0.9293\n",
            "Epoch 14/50\n",
            "117/117 [==============================] - 18s 157ms/step - loss: 0.3393 - accuracy: 0.9321 - val_loss: 0.9406 - val_accuracy: 0.9315\n",
            "Epoch 15/50\n",
            "117/117 [==============================] - 18s 158ms/step - loss: 0.3262 - accuracy: 0.9316 - val_loss: 0.1692 - val_accuracy: 0.9101\n",
            "Epoch 16/50\n",
            "117/117 [==============================] - 18s 158ms/step - loss: 0.3779 - accuracy: 0.9214 - val_loss: 1.1675 - val_accuracy: 0.8437\n",
            "Epoch 17/50\n",
            "117/117 [==============================] - 19s 159ms/step - loss: 0.2933 - accuracy: 0.9439 - val_loss: 0.1363 - val_accuracy: 0.8544\n",
            "Epoch 18/50\n",
            "117/117 [==============================] - 19s 159ms/step - loss: 0.2826 - accuracy: 0.9503 - val_loss: 0.8966 - val_accuracy: 0.9443\n",
            "Epoch 19/50\n",
            "117/117 [==============================] - 19s 160ms/step - loss: 0.2892 - accuracy: 0.9455 - val_loss: 0.1310 - val_accuracy: 0.9465\n",
            "Epoch 20/50\n",
            "117/117 [==============================] - 18s 158ms/step - loss: 0.3050 - accuracy: 0.9406 - val_loss: 0.1625 - val_accuracy: 0.9400\n",
            "Epoch 21/50\n",
            "117/117 [==============================] - 19s 164ms/step - loss: 0.2834 - accuracy: 0.9519 - val_loss: 0.3903 - val_accuracy: 0.8544\n",
            "Epoch 22/50\n",
            "116/117 [============================>.] - ETA: 0s - loss: 0.2685 - accuracy: 0.9536Epoch 23/50\n",
            "117/117 [==============================] - 18s 156ms/step - loss: 0.2590 - accuracy: 0.9572 - val_loss: 0.4202 - val_accuracy: 0.9572\n",
            "Epoch 24/50\n",
            "117/117 [==============================] - 18s 158ms/step - loss: 0.2506 - accuracy: 0.9615 - val_loss: 0.1325 - val_accuracy: 0.8137\n",
            "Epoch 25/50\n",
            "117/117 [==============================] - 18s 157ms/step - loss: 0.2851 - accuracy: 0.9481 - val_loss: 0.6564 - val_accuracy: 0.9700\n",
            "Epoch 26/50\n",
            "117/117 [==============================] - 18s 156ms/step - loss: 0.2387 - accuracy: 0.9674 - val_loss: 0.1420 - val_accuracy: 0.9700\n",
            "Epoch 27/50\n",
            "117/117 [==============================] - 19s 159ms/step - loss: 0.2442 - accuracy: 0.9668 - val_loss: 3.6792 - val_accuracy: 0.8394\n",
            "Epoch 28/50\n",
            "117/117 [==============================] - 18s 157ms/step - loss: 0.2245 - accuracy: 0.9652 - val_loss: 2.2314 - val_accuracy: 0.8137\n",
            "Epoch 29/50\n",
            "117/117 [==============================] - 18s 158ms/step - loss: 0.2573 - accuracy: 0.9626 - val_loss: 0.1363 - val_accuracy: 0.8501\n",
            "Epoch 30/50\n",
            "117/117 [==============================] - 19s 160ms/step - loss: 0.2562 - accuracy: 0.9620 - val_loss: 0.1283 - val_accuracy: 0.9079\n",
            "Epoch 31/50\n",
            "117/117 [==============================] - 18s 158ms/step - loss: 0.2495 - accuracy: 0.9642 - val_loss: 0.2345 - val_accuracy: 0.9465\n",
            "Epoch 32/50\n",
            "117/117 [==============================] - 18s 158ms/step - loss: 0.2275 - accuracy: 0.9690 - val_loss: 0.1342 - val_accuracy: 0.9700\n",
            "Epoch 33/50\n",
            "117/117 [==============================] - 18s 156ms/step - loss: 0.2297 - accuracy: 0.9642 - val_loss: 0.2330 - val_accuracy: 0.8715\n",
            "Epoch 34/50\n",
            "117/117 [==============================] - 19s 160ms/step - loss: 0.2459 - accuracy: 0.9620 - val_loss: 0.1531 - val_accuracy: 0.9315\n",
            "Epoch 35/50\n",
            "117/117 [==============================] - 18s 157ms/step - loss: 0.2399 - accuracy: 0.9674 - val_loss: 0.2767 - val_accuracy: 0.9657\n",
            "Epoch 36/50\n",
            "117/117 [==============================] - 18s 158ms/step - loss: 0.2277 - accuracy: 0.9701 - val_loss: 1.3300 - val_accuracy: 0.9507\n",
            "Epoch 37/50\n",
            "117/117 [==============================] - 18s 157ms/step - loss: 0.2187 - accuracy: 0.9733 - val_loss: 1.0542 - val_accuracy: 0.9529\n",
            "Epoch 38/50\n",
            "117/117 [==============================] - 19s 165ms/step - loss: 0.2684 - accuracy: 0.9476 - val_loss: 0.1264 - val_accuracy: 0.9743\n",
            "Epoch 39/50\n",
            "117/117 [==============================] - 18s 157ms/step - loss: 0.2416 - accuracy: 0.9599 - val_loss: 0.1292 - val_accuracy: 0.9764\n",
            "Epoch 40/50\n",
            "117/117 [==============================] - 18s 157ms/step - loss: 0.2127 - accuracy: 0.9743 - val_loss: 0.2455 - val_accuracy: 0.9507\n",
            "Epoch 41/50\n",
            "117/117 [==============================] - 19s 158ms/step - loss: 0.2137 - accuracy: 0.9733 - val_loss: 0.1265 - val_accuracy: 0.9636\n",
            "Epoch 42/50\n",
            "117/117 [==============================] - 19s 158ms/step - loss: 0.2100 - accuracy: 0.9754 - val_loss: 0.1250 - val_accuracy: 0.9572\n",
            "Epoch 43/50\n",
            "117/117 [==============================] - 19s 159ms/step - loss: 0.2088 - accuracy: 0.9754 - val_loss: 0.8115 - val_accuracy: 0.8266\n",
            "Epoch 44/50\n",
            "117/117 [==============================] - 19s 159ms/step - loss: 0.2325 - accuracy: 0.9663 - val_loss: 1.6622 - val_accuracy: 0.9465\n",
            "Epoch 45/50\n",
            "117/117 [==============================] - 19s 159ms/step - loss: 0.2337 - accuracy: 0.9695 - val_loss: 0.1453 - val_accuracy: 0.9764\n",
            "Epoch 46/50\n",
            "117/117 [==============================] - 19s 159ms/step - loss: 0.2210 - accuracy: 0.9701 - val_loss: 0.1305 - val_accuracy: 0.9165\n",
            "Epoch 47/50\n",
            "117/117 [==============================] - 19s 159ms/step - loss: 0.2132 - accuracy: 0.9722 - val_loss: 0.1232 - val_accuracy: 0.9572\n",
            "Epoch 48/50\n",
            "117/117 [==============================] - 19s 160ms/step - loss: 0.2237 - accuracy: 0.9684 - val_loss: 1.6441 - val_accuracy: 0.9657\n",
            "Epoch 49/50\n",
            "117/117 [==============================] - 18s 158ms/step - loss: 0.1916 - accuracy: 0.9834 - val_loss: 0.2077 - val_accuracy: 0.9443\n",
            "Epoch 50/50\n",
            "117/117 [==============================] - 19s 161ms/step - loss: 0.1871 - accuracy: 0.9807 - val_loss: 0.1881 - val_accuracy: 0.8822\n"
          ],
          "name": "stdout"
        }
      ]
    },
    {
      "cell_type": "code",
      "metadata": {
        "colab_type": "code",
        "id": "TQM3DOOsgps1",
        "colab": {
          "base_uri": "https://localhost:8080/",
          "height": 523
        },
        "outputId": "e28a99a5-85e4-43a9-868c-bba332af5977"
      },
      "source": [
        "history4=model4.fit(\n",
        "    train_data_generator,\n",
        "    epochs=20,\n",
        "    verbose=1,\n",
        "    validation_data=validation_data_generator,\n",
        "    shuffle=True,\n",
        "    callbacks=[\n",
        "               EarlyStopping(monitor='val_loss', patience=3,restore_best_weights=True),\n",
        "               ModelCheckpoint('weights_c.{epoch:02d}-{val_loss:.2f}.hdf5',monitor='val_loss',save_best_only=True,mode='auto')\n",
        "    ]\n",
        ")"
      ],
      "execution_count": null,
      "outputs": [
        {
          "output_type": "stream",
          "text": [
            "Epoch 1/20\n",
            "110/110 [==============================] - 17s 156ms/step - loss: 0.8649 - accuracy: 0.7019 - val_loss: 1.5455 - val_accuracy: 0.3318\n",
            "Epoch 2/20\n",
            "110/110 [==============================] - 16s 143ms/step - loss: 0.7095 - accuracy: 0.8658 - val_loss: 1.2949 - val_accuracy: 0.3707\n",
            "Epoch 3/20\n",
            "110/110 [==============================] - 16s 144ms/step - loss: 0.6483 - accuracy: 0.9246 - val_loss: 0.7611 - val_accuracy: 0.5652\n",
            "Epoch 4/20\n",
            "110/110 [==============================] - 16s 144ms/step - loss: 0.6346 - accuracy: 0.9400 - val_loss: 1.2840 - val_accuracy: 0.5217\n",
            "Epoch 5/20\n",
            "110/110 [==============================] - 17s 150ms/step - loss: 0.6258 - accuracy: 0.9429 - val_loss: 1.2695 - val_accuracy: 0.6613\n",
            "Epoch 6/20\n",
            "110/110 [==============================] - 16s 142ms/step - loss: 0.6167 - accuracy: 0.9503 - val_loss: 0.6603 - val_accuracy: 0.8421\n",
            "Epoch 7/20\n",
            "110/110 [==============================] - 16s 145ms/step - loss: 0.6094 - accuracy: 0.9572 - val_loss: 0.7430 - val_accuracy: 0.7483\n",
            "Epoch 8/20\n",
            "110/110 [==============================] - 16s 143ms/step - loss: 0.6041 - accuracy: 0.9623 - val_loss: 0.6350 - val_accuracy: 0.9085\n",
            "Epoch 9/20\n",
            "110/110 [==============================] - 16s 143ms/step - loss: 0.6007 - accuracy: 0.9686 - val_loss: 0.9803 - val_accuracy: 0.6476\n",
            "Epoch 10/20\n",
            "110/110 [==============================] - 16s 143ms/step - loss: 0.5959 - accuracy: 0.9720 - val_loss: 1.1391 - val_accuracy: 0.5606\n",
            "Epoch 11/20\n",
            "110/110 [==============================] - 15s 141ms/step - loss: 0.6005 - accuracy: 0.9669 - val_loss: 0.5665 - val_accuracy: 0.9680\n",
            "Epoch 12/20\n",
            "110/110 [==============================] - 16s 143ms/step - loss: 0.5942 - accuracy: 0.9680 - val_loss: 1.0504 - val_accuracy: 0.5034\n",
            "Epoch 13/20\n",
            "110/110 [==============================] - 16s 142ms/step - loss: 0.5914 - accuracy: 0.9789 - val_loss: 0.6511 - val_accuracy: 0.7208\n",
            "Epoch 14/20\n",
            "110/110 [==============================] - 15s 140ms/step - loss: 0.5894 - accuracy: 0.9777 - val_loss: 0.7157 - val_accuracy: 0.9428\n"
          ],
          "name": "stdout"
        }
      ]
    },
    {
      "cell_type": "code",
      "metadata": {
        "colab_type": "code",
        "id": "yw7ancUjzETY",
        "colab": {}
      },
      "source": [
        "model10.save('model10.h5')\n",
        "model10.save_weights('model10.h5')"
      ],
      "execution_count": null,
      "outputs": []
    },
    {
      "cell_type": "code",
      "metadata": {
        "id": "2fWStmBbGCf2",
        "colab_type": "code",
        "colab": {
          "base_uri": "https://localhost:8080/",
          "height": 651
        },
        "outputId": "0b5babb8-3618-4e1f-d666-00570b186286"
      },
      "source": [
        "print(history10.history.keys())\n",
        "\n",
        "plt.style.use('fivethirtyeight')\n",
        "# summarize history for accuracy\n",
        "plt.plot(history6.history['accuracy'])\n",
        "plt.plot(history6.history['val_accuracy'])\n",
        "plt.title('model accuracy')\n",
        "plt.ylabel('accuracy')\n",
        "plt.xlabel('epoch')\n",
        "plt.legend(['Training', 'Validation'], loc='upper left')\n",
        "plt.show()\n",
        "# summarize history for loss\n",
        "plt.plot(history6.history['loss'])\n",
        "plt.plot(history6.history['val_loss'])\n",
        "plt.title('model loss')\n",
        "plt.ylabel('loss')\n",
        "plt.xlabel('epoch')\n",
        "plt.legend(['Training', 'Validation'], loc='upper left')\n",
        "plt.show()"
      ],
      "execution_count": null,
      "outputs": [
        {
          "output_type": "stream",
          "text": [
            "dict_keys(['val_loss', 'val_accuracy', 'loss', 'accuracy'])\n"
          ],
          "name": "stdout"
        },
        {
          "output_type": "display_data",
          "data": {
            "image/png": "[encoded data removed]",
            "text/plain": [
              "<Figure size 432x288 with 1 Axes>"
            ]
          },
          "metadata": {
            "tags": []
          }
        },
        {
          "output_type": "display_data",
          "data": {
            "image/png": "[encoded data removed]",
            "text/plain": [
              "<Figure size 432x288 with 1 Axes>"
            ]
          },
          "metadata": {
            "tags": []
          }
        }
      ]
    },
    {
      "cell_type": "code",
      "metadata": {
        "colab_type": "code",
        "id": "2xjy7r59nET1",
        "colab": {
          "base_uri": "https://localhost:8080/",
          "height": 107
        },
        "outputId": "1d7170d0-3adf-42a8-f426-fc6c6db79990"
      },
      "source": [
        "inception_base = k.applications.ResNet50(weights='imagenet',input_shape=(100,100,3), include_top=False)\n",
        "\n",
        "x = inception_base.output\n",
        "x = GlobalAveragePooling2D()(x)\n",
        "x = Dense(512, activation='relu')(x)\n",
        "predictions = Dense(3, activation='softmax')(x)\n",
        "inception_transfer = Model(inputs=inception_base.input, outputs=predictions)"
      ],
      "execution_count": null,
      "outputs": [
        {
          "output_type": "stream",
          "text": [
            "/usr/local/lib/python3.6/dist-packages/keras_applications/resnet50.py:265: UserWarning: The output shape of `ResNet50(include_top=False)` has been changed since Keras 2.2.0.\n",
            "  warnings.warn('The output shape of `ResNet50(include_top=False)` '\n"
          ],
          "name": "stderr"
        },
        {
          "output_type": "stream",
          "text": [
            "Downloading data from https://github.com/fchollet/deep-learning-models/releases/download/v0.2/resnet50_weights_tf_dim_ordering_tf_kernels_notop.h5\n",
            "94658560/94653016 [==============================] - 8s 0us/step\n"
          ],
          "name": "stdout"
        }
      ]
    },
    {
      "cell_type": "code",
      "metadata": {
        "colab_type": "code",
        "id": "Z5bnNZ9-niX1",
        "colab": {}
      },
      "source": [
        "inception_transfer.compile(loss='categorical_crossentropy',\n",
        "              optimizer=SGD(learning_rate=1e-4,momentum=0.9),\n",
        "              metrics=['accuracy'])"
      ],
      "execution_count": null,
      "outputs": []
    },
    {
      "cell_type": "code",
      "metadata": {
        "colab_type": "code",
        "id": "gopZTWZ4n2ce",
        "colab": {
          "base_uri": "https://localhost:8080/",
          "height": 904
        },
        "outputId": "74b382ef-183c-42ca-93a5-50f0e49139a9"
      },
      "source": [
        "with tf.device(\"/device:GPU:0\"):\n",
        "    history_pretrained = inception_transfer.fit(\n",
        "    train_data_generator,\n",
        "    epochs = 25, \n",
        "    shuffle = True, \n",
        "    verbose = 1, \n",
        "    validation_data = validation_data_generator)"
      ],
      "execution_count": null,
      "outputs": [
        {
          "output_type": "stream",
          "text": [
            "Epoch 1/25\n",
            "124/124 [==============================] - 34s 276ms/step - loss: 0.6721 - accuracy: 0.7374 - val_loss: 2.8568 - val_accuracy: 0.3421\n",
            "Epoch 2/25\n",
            "124/124 [==============================] - 22s 180ms/step - loss: 0.2486 - accuracy: 0.9404 - val_loss: 12.8339 - val_accuracy: 0.3421\n",
            "Epoch 3/25\n",
            "124/124 [==============================] - 22s 180ms/step - loss: 0.1492 - accuracy: 0.9677 - val_loss: 11.4814 - val_accuracy: 0.3421\n",
            "Epoch 4/25\n",
            "124/124 [==============================] - 22s 179ms/step - loss: 0.0963 - accuracy: 0.9818 - val_loss: 15.8154 - val_accuracy: 0.3421\n",
            "Epoch 5/25\n",
            "124/124 [==============================] - 22s 179ms/step - loss: 0.0694 - accuracy: 0.9833 - val_loss: 11.5640 - val_accuracy: 0.3482\n",
            "Epoch 6/25\n",
            "124/124 [==============================] - 22s 180ms/step - loss: 0.0551 - accuracy: 0.9869 - val_loss: 3.5464 - val_accuracy: 0.3785\n",
            "Epoch 7/25\n",
            "124/124 [==============================] - 22s 180ms/step - loss: 0.0504 - accuracy: 0.9909 - val_loss: 0.3221 - val_accuracy: 0.6680\n",
            "Epoch 8/25\n",
            "124/124 [==============================] - 22s 179ms/step - loss: 0.0432 - accuracy: 0.9904 - val_loss: 0.1671 - val_accuracy: 0.9312\n",
            "Epoch 9/25\n",
            "124/124 [==============================] - 22s 178ms/step - loss: 0.0453 - accuracy: 0.9884 - val_loss: 0.0068 - val_accuracy: 0.9939\n",
            "Epoch 10/25\n",
            "124/124 [==============================] - 22s 178ms/step - loss: 0.0319 - accuracy: 0.9939 - val_loss: 0.0118 - val_accuracy: 0.9980\n",
            "Epoch 11/25\n",
            "124/124 [==============================] - 22s 178ms/step - loss: 0.0367 - accuracy: 0.9894 - val_loss: 0.0062 - val_accuracy: 0.9980\n",
            "Epoch 12/25\n",
            "124/124 [==============================] - 22s 177ms/step - loss: 0.0287 - accuracy: 0.9944 - val_loss: 0.0046 - val_accuracy: 0.9960\n",
            "Epoch 13/25\n",
            "124/124 [==============================] - 22s 176ms/step - loss: 0.0247 - accuracy: 0.9960 - val_loss: 0.0242 - val_accuracy: 0.9980\n",
            "Epoch 14/25\n",
            "124/124 [==============================] - 22s 176ms/step - loss: 0.0226 - accuracy: 0.9939 - val_loss: 0.0133 - val_accuracy: 0.9960\n",
            "Epoch 15/25\n",
            "124/124 [==============================] - 22s 178ms/step - loss: 0.0225 - accuracy: 0.9934 - val_loss: 0.0041 - val_accuracy: 0.9980\n",
            "Epoch 16/25\n",
            "124/124 [==============================] - 22s 175ms/step - loss: 0.0225 - accuracy: 0.9939 - val_loss: 0.0023 - val_accuracy: 0.9960\n",
            "Epoch 17/25\n",
            "124/124 [==============================] - 22s 175ms/step - loss: 0.0158 - accuracy: 0.9985 - val_loss: 0.0055 - val_accuracy: 0.9980\n",
            "Epoch 18/25\n",
            "124/124 [==============================] - 22s 174ms/step - loss: 0.0182 - accuracy: 0.9960 - val_loss: 0.0108 - val_accuracy: 1.0000\n",
            "Epoch 19/25\n",
            "124/124 [==============================] - 22s 176ms/step - loss: 0.0194 - accuracy: 0.9939 - val_loss: 7.7361e-04 - val_accuracy: 1.0000\n",
            "Epoch 20/25\n",
            "124/124 [==============================] - 22s 179ms/step - loss: 0.0184 - accuracy: 0.9944 - val_loss: 0.0552 - val_accuracy: 0.9980\n",
            "Epoch 21/25\n",
            "124/124 [==============================] - 22s 177ms/step - loss: 0.0152 - accuracy: 0.9970 - val_loss: 9.7169e-04 - val_accuracy: 0.9980\n",
            "Epoch 22/25\n",
            "124/124 [==============================] - 22s 178ms/step - loss: 0.0151 - accuracy: 0.9975 - val_loss: 0.0025 - val_accuracy: 0.9980\n",
            "Epoch 23/25\n",
            "124/124 [==============================] - 22s 177ms/step - loss: 0.0184 - accuracy: 0.9955 - val_loss: 0.0017 - val_accuracy: 0.9960\n",
            "Epoch 24/25\n",
            "124/124 [==============================] - 22s 178ms/step - loss: 0.0145 - accuracy: 0.9975 - val_loss: 9.5453e-04 - val_accuracy: 1.0000\n",
            "Epoch 25/25\n",
            "124/124 [==============================] - 22s 178ms/step - loss: 0.0115 - accuracy: 0.9985 - val_loss: 0.0044 - val_accuracy: 1.0000\n"
          ],
          "name": "stdout"
        }
      ]
    },
    {
      "cell_type": "code",
      "metadata": {
        "colab_type": "code",
        "id": "urmc74EsLRuS",
        "colab": {}
      },
      "source": [
        "import os"
      ],
      "execution_count": null,
      "outputs": []
    },
    {
      "cell_type": "code",
      "metadata": {
        "colab_type": "code",
        "id": "LZXTgqKIErKh",
        "colab": {
          "base_uri": "https://localhost:8080/",
          "height": 87
        },
        "outputId": "9d6d15d4-6a7b-47a2-9454-418de5295aca"
      },
      "source": [
        "x=cv2.imread('Dataset/rock/01dM3ewPIsnBICu1.png')\n",
        "x=cv2.resize(x,(100,100))\n",
        "x = x / 255\n",
        "img_arr=np.array(x)\n",
        "img = np.array([img_arr])\n",
        "print(img.shape)\n",
        "y=model6.predict(img)\n",
        "print(np.max(y))\n",
        "print(np.argmax(y,axis=1))\n",
        "print(os.listdir('Dataset')[np.argmax(y,axis=1)[0]])\n"
      ],
      "execution_count": null,
      "outputs": [
        {
          "output_type": "stream",
          "text": [
            "(1, 100, 100, 3)\n",
            "1.0\n",
            "[1]\n",
            "rock\n"
          ],
          "name": "stdout"
        }
      ]
    },
    {
      "cell_type": "code",
      "metadata": {
        "colab_type": "code",
        "id": "JfZRBtewLlx0",
        "colab": {
          "base_uri": "https://localhost:8080/",
          "height": 87
        },
        "outputId": "fd5856e2-c40c-43a9-b9dd-9ecb9f781cab"
      },
      "source": [
        "x=cv2.imread('Dataset/scissors/1VRzspyXpQ6A2rKy.png')\n",
        "x=cv2.resize(x,(100,100))\n",
        "x = x / 255\n",
        "img_arr=np.array(x)\n",
        "img = np.array([img_arr])\n",
        "print(img.shape)\n",
        "y=model5.predict(img)\n",
        "print(np.max(y))\n",
        "print(np.argmax(y,axis=1))\n",
        "print(os.listdir('Dataset')[np.argmax(y,axis=1)[0]])\n"
      ],
      "execution_count": null,
      "outputs": [
        {
          "output_type": "stream",
          "text": [
            "(1, 100, 100, 3)\n",
            "0.9999989\n",
            "[2]\n",
            "scissors\n"
          ],
          "name": "stdout"
        }
      ]
    },
    {
      "cell_type": "code",
      "metadata": {
        "id": "FM1PIxQH5mwW",
        "colab_type": "code",
        "colab": {
          "base_uri": "https://localhost:8080/",
          "height": 87
        },
        "outputId": "e7227834-1309-4f1d-cd28-92895095699a"
      },
      "source": [
        "# after error\n",
        "x=cv2.imread('Dataset/scissors/1VRzspyXpQ6A2rKy.png')\n",
        "x=cv2.resize(x,(100,100))\n",
        "x = x / 255\n",
        "img_arr=np.array(x)\n",
        "img = np.array([img_arr])\n",
        "print(img.shape)\n",
        "y=model9.predict(img)\n",
        "print(np.max(y))\n",
        "print(np.argmax(y,axis=1))\n",
        "print(os.listdir('Dataset')[np.argmax(y,axis=1)[0]])"
      ],
      "execution_count": null,
      "outputs": [
        {
          "output_type": "stream",
          "text": [
            "(1, 100, 100, 3)\n",
            "0.9994955\n",
            "[2]\n",
            "scissors\n"
          ],
          "name": "stdout"
        }
      ]
    },
    {
      "cell_type": "code",
      "metadata": {
        "colab_type": "code",
        "id": "B77wt-jTB5mc",
        "colab": {
          "base_uri": "https://localhost:8080/",
          "height": 191
        },
        "outputId": "3f39502b-d71a-4ac9-96a1-7a03e0a66e60"
      },
      "source": [
        "all_imgs = []\n",
        "imgs = os.listdir('Dataset/scissors')\n",
        "imgs = imgs[10:20]\n",
        "for img in imgs:\n",
        "  x = cv2.imread('Dataset/scissors/' + img, 3)\n",
        "  x=cv2.resize(x,(100,100))\n",
        "  x = np.array(x) / 255\n",
        "  all_imgs.append(x)\n",
        "all_imgs = np.array(all_imgs)\n",
        "\n",
        "\n",
        "y=model5.predict(x=all_imgs)\n",
        "for e in y:\n",
        "  print(np.argmax(e))"
      ],
      "execution_count": null,
      "outputs": [
        {
          "output_type": "stream",
          "text": [
            "2\n",
            "2\n",
            "2\n",
            "2\n",
            "2\n",
            "2\n",
            "2\n",
            "2\n",
            "2\n",
            "2\n"
          ],
          "name": "stdout"
        }
      ]
    },
    {
      "cell_type": "code",
      "metadata": {
        "id": "t8GYUhl75GD8",
        "colab_type": "code",
        "colab": {
          "base_uri": "https://localhost:8080/",
          "height": 104
        },
        "outputId": "23a0a1e3-9999-4ce0-b852-95a588e95996"
      },
      "source": [
        "#try\n",
        "x=cv2.imread('/content/images.jpg')\n",
        "x = cv2.cvtColor(x,cv2.COLOR_BGR2RGB)\n",
        "x=cv2.resize(x,(100,100))\n",
        "x = x / 255\n",
        "img_arr=np.array(x)\n",
        "img = np.array([img_arr])\n",
        "print(img.shape)\n",
        "y=model9.predict(img)\n",
        "print(np.max(y))\n",
        "print(np.argmax(y,axis=1))\n",
        "print(os.listdir('Dataset')[np.argmax(y,axis=1)[0]])\n",
        "y"
      ],
      "execution_count": null,
      "outputs": [
        {
          "output_type": "stream",
          "text": [
            "(1, 100, 100, 3)\n",
            "0.99999905\n",
            "[1]\n",
            "rock\n"
          ],
          "name": "stdout"
        },
        {
          "output_type": "execute_result",
          "data": {
            "text/plain": [
              "array([[1.6498274e-07, 9.9999905e-01, 8.5180091e-07]], dtype=float32)"
            ]
          },
          "metadata": {
            "tags": []
          },
          "execution_count": 76
        }
      ]
    },
    {
      "cell_type": "code",
      "metadata": {
        "colab_type": "code",
        "id": "u95hTh3S_2GQ",
        "colab": {
          "base_uri": "https://localhost:8080/",
          "height": 104
        },
        "outputId": "2e82ae62-d08e-42dd-c88d-450f6eb4ed2c"
      },
      "source": [
        "# inception transfer model\n",
        "x=cv2.imread('/content/images.jpg')\n",
        "x = cv2.cvtColor(x,cv2.COLOR_BGR2RGB)\n",
        "x=cv2.resize(x,(100,100))\n",
        "x = x / 255\n",
        "img_arr=np.array(x)\n",
        "img = np.array([img_arr])\n",
        "print(img.shape)\n",
        "y=inception_transfer.predict(img)\n",
        "print(np.max(y))\n",
        "print(np.argmax(y,axis=1))\n",
        "print(os.listdir('Dataset')[np.argmax(y,axis=1)[0]])\n",
        "y"
      ],
      "execution_count": null,
      "outputs": [
        {
          "output_type": "stream",
          "text": [
            "(1, 100, 100, 3)\n",
            "0.9337198\n",
            "[1]\n",
            "rock\n"
          ],
          "name": "stdout"
        },
        {
          "output_type": "execute_result",
          "data": {
            "text/plain": [
              "array([[0.02038304, 0.9337198 , 0.04589712]], dtype=float32)"
            ]
          },
          "metadata": {
            "tags": []
          },
          "execution_count": 57
        }
      ]
    },
    {
      "cell_type": "code",
      "metadata": {
        "id": "LMKchB_f5vnH",
        "colab_type": "code",
        "colab": {
          "base_uri": "https://localhost:8080/",
          "height": 104
        },
        "outputId": "eecec82e-9590-4c78-f136-88d99e41615d"
      },
      "source": [
        "# after error\n",
        "x=cv2.imread('Dataset/paper/4484TuJc6AH7pDOG.png')\n",
        "x=cv2.resize(x,(100,100))\n",
        "x = x / 255\n",
        "img_arr=np.array(x)\n",
        "img = np.array([img_arr])\n",
        "print(img.shape)\n",
        "y=model9.predict(img)\n",
        "print(np.max(y))\n",
        "print(np.argmax(y,axis=1))\n",
        "print(os.listdir('Dataset')[np.argmax(y,axis=1)[0]])\n",
        "y"
      ],
      "execution_count": null,
      "outputs": [
        {
          "output_type": "stream",
          "text": [
            "(1, 100, 100, 3)\n",
            "0.965744\n",
            "[2]\n",
            "scissors\n"
          ],
          "name": "stdout"
        },
        {
          "output_type": "execute_result",
          "data": {
            "text/plain": [
              "array([[0.03069577, 0.0035602 , 0.965744  ]], dtype=float32)"
            ]
          },
          "metadata": {
            "tags": []
          },
          "execution_count": 82
        }
      ]
    },
    {
      "cell_type": "code",
      "metadata": {
        "colab_type": "code",
        "id": "ostS6EFMJJH0",
        "colab": {
          "base_uri": "https://localhost:8080/",
          "height": 104
        },
        "outputId": "fe691b82-de79-41f1-d7b0-66f96e6b72fe"
      },
      "source": [
        "# inception transfer model\n",
        "x=cv2.imread('Dataset/paper/4484TuJc6AH7pDOG.png')\n",
        "x=cv2.resize(x,(100,100))\n",
        "x = x / 255\n",
        "img_arr=np.array(x)\n",
        "img = np.array([img_arr])\n",
        "print(img.shape)\n",
        "y=inception_transfer.predict(img)\n",
        "print(np.max(y))\n",
        "print(np.argmax(y,axis=1))\n",
        "print(os.listdir('Dataset')[np.argmax(y,axis=1)[0]])\n",
        "y"
      ],
      "execution_count": null,
      "outputs": [
        {
          "output_type": "stream",
          "text": [
            "(1, 100, 100, 3)\n",
            "0.99992025\n",
            "[0]\n",
            "paper\n"
          ],
          "name": "stdout"
        },
        {
          "output_type": "execute_result",
          "data": {
            "text/plain": [
              "array([[9.9992025e-01, 4.6758258e-05, 3.2994190e-05]], dtype=float32)"
            ]
          },
          "metadata": {
            "tags": []
          },
          "execution_count": 60
        }
      ]
    },
    {
      "cell_type": "code",
      "metadata": {
        "colab_type": "code",
        "id": "KtwRGmCXK0Yk",
        "colab": {
          "base_uri": "https://localhost:8080/",
          "height": 191
        },
        "outputId": "ea5fc994-b912-4538-d3ef-63b858650b9a"
      },
      "source": [
        "all_imgs = []\n",
        "imgs = os.listdir('Dataset/paper')\n",
        "imgs = imgs[:10]\n",
        "for img in imgs:\n",
        "  x = cv2.imread('Dataset/paper/' + img, 3)\n",
        "  x=cv2.resize(x,(100,100))\n",
        "  x = np.array(x) / 255\n",
        "  all_imgs.append(x)\n",
        "all_imgs = np.array(all_imgs)\n",
        "\n",
        "\n",
        "y=model5.predict(x=all_imgs)\n",
        "for e in y:\n",
        "  print(np.argmax(e))"
      ],
      "execution_count": null,
      "outputs": [
        {
          "output_type": "stream",
          "text": [
            "0\n",
            "2\n",
            "0\n",
            "0\n",
            "0\n",
            "0\n",
            "0\n",
            "0\n",
            "0\n",
            "0\n"
          ],
          "name": "stdout"
        }
      ]
    },
    {
      "cell_type": "code",
      "metadata": {
        "colab_type": "code",
        "id": "vGzRRrx_JT7l",
        "colab": {
          "base_uri": "https://localhost:8080/",
          "height": 191
        },
        "outputId": "fab0b5d0-5132-4501-be52-145f2bc53aa1"
      },
      "source": [
        "# inception transfer model\n",
        "all_imgs = []\n",
        "imgs = os.listdir('Dataset/paper')\n",
        "imgs = imgs[:10]\n",
        "for img in imgs:\n",
        "  x = cv2.imread('Dataset/paper/' + img, 3)\n",
        "  x=cv2.resize(x,(100,100))\n",
        "  x = np.array(x) / 255\n",
        "  all_imgs.append(x)\n",
        "all_imgs = np.array(all_imgs)\n",
        "\n",
        "\n",
        "y=inception_transfer.predict(x=all_imgs)\n",
        "for e in y:\n",
        "  print(np.argmax(e))"
      ],
      "execution_count": null,
      "outputs": [
        {
          "output_type": "stream",
          "text": [
            "0\n",
            "0\n",
            "0\n",
            "0\n",
            "0\n",
            "0\n",
            "0\n",
            "0\n",
            "0\n",
            "0\n"
          ],
          "name": "stdout"
        }
      ]
    },
    {
      "cell_type": "code",
      "metadata": {
        "id": "2ClxSzm_6I0X",
        "colab_type": "code",
        "colab": {
          "base_uri": "https://localhost:8080/",
          "height": 191
        },
        "outputId": "89decb0c-4fb7-4f80-e768-2db3a3c65949"
      },
      "source": [
        "#err\n",
        "all_imgs = []\n",
        "imgs = os.listdir('Dataset/scissors')\n",
        "imgs = imgs[50:60]\n",
        "for img in imgs:\n",
        "  x = cv2.imread('Dataset/scissors/' + img, 3)\n",
        "  x=cv2.resize(x,(100,100))\n",
        "  x = np.array(x) / 255\n",
        "  all_imgs.append(x)\n",
        "all_imgs = np.array(all_imgs)\n",
        "\n",
        "\n",
        "y=model9.predict(x=all_imgs)\n",
        "for e in y:\n",
        "  print(np.argmax(e))"
      ],
      "execution_count": null,
      "outputs": [
        {
          "output_type": "stream",
          "text": [
            "2\n",
            "2\n",
            "2\n",
            "2\n",
            "2\n",
            "2\n",
            "2\n",
            "2\n",
            "2\n",
            "2\n"
          ],
          "name": "stdout"
        }
      ]
    },
    {
      "cell_type": "code",
      "metadata": {
        "colab_type": "code",
        "id": "4tORaExvKVN_",
        "colab": {
          "base_uri": "https://localhost:8080/",
          "height": 191
        },
        "outputId": "d015ca7e-b041-4883-c4bb-910d4b3885f4"
      },
      "source": [
        "# inception transfer model\n",
        "all_imgs = []\n",
        "imgs = os.listdir('Dataset/scissors')\n",
        "imgs = imgs[50:60]\n",
        "for img in imgs:\n",
        "  x = cv2.imread('Dataset/scissors/' + img, 3)\n",
        "  x=cv2.resize(x,(100,100))\n",
        "  x = np.array(x) / 255\n",
        "  all_imgs.append(x)\n",
        "all_imgs = np.array(all_imgs)\n",
        "\n",
        "\n",
        "y=inception_transfer.predict(x=all_imgs)\n",
        "for e in y:\n",
        "  print(np.argmax(e))"
      ],
      "execution_count": null,
      "outputs": [
        {
          "output_type": "stream",
          "text": [
            "2\n",
            "2\n",
            "2\n",
            "2\n",
            "2\n",
            "2\n",
            "2\n",
            "2\n",
            "2\n",
            "2\n"
          ],
          "name": "stdout"
        }
      ]
    },
    {
      "cell_type": "code",
      "metadata": {
        "colab_type": "code",
        "id": "Gms4zKmEMXZ1",
        "colab": {
          "base_uri": "https://localhost:8080/",
          "height": 191
        },
        "outputId": "4e135a95-a3ec-4f62-aac8-02bdd68ffa6c"
      },
      "source": [
        "all_imgs = []\n",
        "imgs = os.listdir('Dataset/rock')\n",
        "imgs = imgs[:10]\n",
        "for img in imgs:\n",
        "  x = cv2.imread('Dataset/rock/' + img, 3)\n",
        "  x=cv2.resize(x,(100,100))\n",
        "  x = np.array(x) / 255\n",
        "  all_imgs.append(x)\n",
        "all_imgs = np.array(all_imgs)\n",
        "\n",
        "y=model5.predict(x=all_imgs)\n",
        "for e in y:\n",
        "  print(np.argmax(e))"
      ],
      "execution_count": null,
      "outputs": [
        {
          "output_type": "stream",
          "text": [
            "1\n",
            "1\n",
            "1\n",
            "1\n",
            "1\n",
            "1\n",
            "1\n",
            "1\n",
            "1\n",
            "1\n"
          ],
          "name": "stdout"
        }
      ]
    },
    {
      "cell_type": "code",
      "metadata": {
        "colab_type": "code",
        "id": "2QAPGOAOKan3",
        "colab": {
          "base_uri": "https://localhost:8080/",
          "height": 191
        },
        "outputId": "700c7272-6ea1-463c-f7ea-83ac87a18f46"
      },
      "source": [
        "# inception transfer model\n",
        "all_imgs = []\n",
        "imgs = os.listdir('Dataset/rock')\n",
        "imgs = imgs[:10]\n",
        "for img in imgs:\n",
        "  x = cv2.imread('Dataset/rock/' + img, 3)\n",
        "  x=cv2.resize(x,(100,100))\n",
        "  x = np.array(x) / 255\n",
        "  all_imgs.append(x)\n",
        "all_imgs = np.array(all_imgs)\n",
        "\n",
        "y=inception_transfer.predict(x=all_imgs)\n",
        "for e in y:\n",
        "  print(np.argmax(e))"
      ],
      "execution_count": null,
      "outputs": [
        {
          "output_type": "stream",
          "text": [
            "1\n",
            "1\n",
            "1\n",
            "1\n",
            "1\n",
            "1\n",
            "1\n",
            "1\n",
            "1\n",
            "1\n"
          ],
          "name": "stdout"
        }
      ]
    },
    {
      "cell_type": "code",
      "metadata": {
        "colab_type": "code",
        "id": "ANburWHRMdIN",
        "colab": {}
      },
      "source": [
        "!mkdir final_tflite"
      ],
      "execution_count": null,
      "outputs": []
    },
    {
      "cell_type": "code",
      "metadata": {
        "colab_type": "code",
        "id": "QiuyDGTk8FpD",
        "colab": {}
      },
      "source": [
        "new_model= tf.keras.models.load_model(filepath=\"model10.h5\")\n",
        "new_model.load_weights('model10.h5')"
      ],
      "execution_count": null,
      "outputs": []
    },
    {
      "cell_type": "code",
      "metadata": {
        "colab_type": "code",
        "id": "NI8j19i87KyT",
        "colab": {
          "base_uri": "https://localhost:8080/",
          "height": 35
        },
        "outputId": "21bdc123-0eb4-4cb2-cbea-2cd78b9eada9"
      },
      "source": [
        "converter = tf.lite.TFLiteConverter.from_keras_model(new_model)\n",
        "tflite_model = converter.convert()\n",
        "open(\"converted_model.tflite\", \"wb\").write(tflite_model)"
      ],
      "execution_count": null,
      "outputs": [
        {
          "output_type": "execute_result",
          "data": {
            "text/plain": [
              "38108588"
            ]
          },
          "metadata": {
            "tags": []
          },
          "execution_count": 344
        }
      ]
    }
  ]
}